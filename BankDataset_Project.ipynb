{
 "cells": [
  {
   "cell_type": "code",
   "execution_count": 1,
   "id": "5d9b1296",
   "metadata": {},
   "outputs": [
    {
     "name": "stdout",
     "output_type": "stream",
     "text": [
      "Requirement already satisfied: scikit-learn in c:\\users\\hhay1\\anaconda3\\lib\\site-packages (1.3.0)\n",
      "Requirement already satisfied: scipy>=1.5.0 in c:\\users\\hhay1\\anaconda3\\lib\\site-packages (from scikit-learn) (1.11.1)\n",
      "Requirement already satisfied: threadpoolctl>=2.0.0 in c:\\users\\hhay1\\anaconda3\\lib\\site-packages (from scikit-learn) (3.1.0)\n",
      "Requirement already satisfied: joblib>=1.1.1 in c:\\users\\hhay1\\anaconda3\\lib\\site-packages (from scikit-learn) (1.3.1)\n",
      "Requirement already satisfied: numpy>=1.17.3 in c:\\users\\hhay1\\anaconda3\\lib\\site-packages (from scikit-learn) (1.24.3)\n"
     ]
    }
   ],
   "source": [
    "!pip install --upgrade scikit-learn"
   ]
  },
  {
   "cell_type": "code",
   "execution_count": 311,
   "id": "7d3195d0",
   "metadata": {},
   "outputs": [],
   "source": [
    "import pandas as pd\n",
    "import numpy as np\n",
    "import seaborn as sns\n",
    "import matplotlib.pyplot as plt\n",
    "import keras\n",
    "\n",
    "from sklearn.preprocessing import StandardScaler\n",
    "from sklearn.preprocessing import LabelEncoder\n",
    "from imblearn.over_sampling import SMOTE\n",
    "from sklearn.model_selection import train_test_split,KFold,cross_val_score\n",
    "\n",
    "from sklearn.metrics import classification_report,confusion_matrix,mean_absolute_error,mean_squared_error,make_scorer\n",
    "\n",
    "from xgboost import XGBClassifier\n",
    "from sklearn.ensemble import RandomForestClassifier\n",
    "from sklearn.decomposition import PCA\n",
    "from sklearn.neighbors import KNeighborsClassifier\n",
    "from sklearn.model_selection import GridSearchCV\n",
    "from tensorflow.keras.models import Sequential\n",
    "from tensorflow.keras.layers import Dense,Activation,Dropout"
   ]
  },
  {
   "cell_type": "code",
   "execution_count": 3,
   "id": "5def6983",
   "metadata": {},
   "outputs": [
    {
     "data": {
      "text/html": [
       "<div>\n",
       "<style scoped>\n",
       "    .dataframe tbody tr th:only-of-type {\n",
       "        vertical-align: middle;\n",
       "    }\n",
       "\n",
       "    .dataframe tbody tr th {\n",
       "        vertical-align: top;\n",
       "    }\n",
       "\n",
       "    .dataframe thead th {\n",
       "        text-align: right;\n",
       "    }\n",
       "</style>\n",
       "<table border=\"1\" class=\"dataframe\">\n",
       "  <thead>\n",
       "    <tr style=\"text-align: right;\">\n",
       "      <th></th>\n",
       "      <th>ID</th>\n",
       "      <th>Customer_ID</th>\n",
       "      <th>Month</th>\n",
       "      <th>Name</th>\n",
       "      <th>Age</th>\n",
       "      <th>SSN</th>\n",
       "      <th>Occupation</th>\n",
       "      <th>Annual_Income</th>\n",
       "      <th>Monthly_Inhand_Salary</th>\n",
       "      <th>Num_Bank_Accounts</th>\n",
       "      <th>...</th>\n",
       "      <th>Credit_Mix</th>\n",
       "      <th>Outstanding_Debt</th>\n",
       "      <th>Credit_Utilization_Ratio</th>\n",
       "      <th>Credit_History_Age</th>\n",
       "      <th>Payment_of_Min_Amount</th>\n",
       "      <th>Total_EMI_per_month</th>\n",
       "      <th>Amount_invested_monthly</th>\n",
       "      <th>Payment_Behaviour</th>\n",
       "      <th>Monthly_Balance</th>\n",
       "      <th>Credit_Score</th>\n",
       "    </tr>\n",
       "  </thead>\n",
       "  <tbody>\n",
       "    <tr>\n",
       "      <th>0</th>\n",
       "      <td>0x1602</td>\n",
       "      <td>CUS_0xd40</td>\n",
       "      <td>January</td>\n",
       "      <td>Aaron Maashoh</td>\n",
       "      <td>23</td>\n",
       "      <td>821-00-0265</td>\n",
       "      <td>Scientist</td>\n",
       "      <td>19114.12</td>\n",
       "      <td>1824.843333</td>\n",
       "      <td>3</td>\n",
       "      <td>...</td>\n",
       "      <td>_</td>\n",
       "      <td>809.98</td>\n",
       "      <td>26.822620</td>\n",
       "      <td>22 Years and 1 Months</td>\n",
       "      <td>No</td>\n",
       "      <td>49.574949</td>\n",
       "      <td>80.41529543900253</td>\n",
       "      <td>High_spent_Small_value_payments</td>\n",
       "      <td>312.49408867943663</td>\n",
       "      <td>Good</td>\n",
       "    </tr>\n",
       "    <tr>\n",
       "      <th>1</th>\n",
       "      <td>0x1603</td>\n",
       "      <td>CUS_0xd40</td>\n",
       "      <td>February</td>\n",
       "      <td>Aaron Maashoh</td>\n",
       "      <td>23</td>\n",
       "      <td>821-00-0265</td>\n",
       "      <td>Scientist</td>\n",
       "      <td>19114.12</td>\n",
       "      <td>NaN</td>\n",
       "      <td>3</td>\n",
       "      <td>...</td>\n",
       "      <td>Good</td>\n",
       "      <td>809.98</td>\n",
       "      <td>31.944960</td>\n",
       "      <td>NaN</td>\n",
       "      <td>No</td>\n",
       "      <td>49.574949</td>\n",
       "      <td>118.28022162236736</td>\n",
       "      <td>Low_spent_Large_value_payments</td>\n",
       "      <td>284.62916249607184</td>\n",
       "      <td>Good</td>\n",
       "    </tr>\n",
       "    <tr>\n",
       "      <th>2</th>\n",
       "      <td>0x1604</td>\n",
       "      <td>CUS_0xd40</td>\n",
       "      <td>March</td>\n",
       "      <td>Aaron Maashoh</td>\n",
       "      <td>-500</td>\n",
       "      <td>821-00-0265</td>\n",
       "      <td>Scientist</td>\n",
       "      <td>19114.12</td>\n",
       "      <td>NaN</td>\n",
       "      <td>3</td>\n",
       "      <td>...</td>\n",
       "      <td>Good</td>\n",
       "      <td>809.98</td>\n",
       "      <td>28.609352</td>\n",
       "      <td>22 Years and 3 Months</td>\n",
       "      <td>No</td>\n",
       "      <td>49.574949</td>\n",
       "      <td>81.699521264648</td>\n",
       "      <td>Low_spent_Medium_value_payments</td>\n",
       "      <td>331.2098628537912</td>\n",
       "      <td>Good</td>\n",
       "    </tr>\n",
       "    <tr>\n",
       "      <th>3</th>\n",
       "      <td>0x1605</td>\n",
       "      <td>CUS_0xd40</td>\n",
       "      <td>April</td>\n",
       "      <td>Aaron Maashoh</td>\n",
       "      <td>23</td>\n",
       "      <td>821-00-0265</td>\n",
       "      <td>Scientist</td>\n",
       "      <td>19114.12</td>\n",
       "      <td>NaN</td>\n",
       "      <td>3</td>\n",
       "      <td>...</td>\n",
       "      <td>Good</td>\n",
       "      <td>809.98</td>\n",
       "      <td>31.377862</td>\n",
       "      <td>22 Years and 4 Months</td>\n",
       "      <td>No</td>\n",
       "      <td>49.574949</td>\n",
       "      <td>199.4580743910713</td>\n",
       "      <td>Low_spent_Small_value_payments</td>\n",
       "      <td>223.45130972736786</td>\n",
       "      <td>Good</td>\n",
       "    </tr>\n",
       "    <tr>\n",
       "      <th>4</th>\n",
       "      <td>0x1606</td>\n",
       "      <td>CUS_0xd40</td>\n",
       "      <td>May</td>\n",
       "      <td>Aaron Maashoh</td>\n",
       "      <td>23</td>\n",
       "      <td>821-00-0265</td>\n",
       "      <td>Scientist</td>\n",
       "      <td>19114.12</td>\n",
       "      <td>1824.843333</td>\n",
       "      <td>3</td>\n",
       "      <td>...</td>\n",
       "      <td>Good</td>\n",
       "      <td>809.98</td>\n",
       "      <td>24.797347</td>\n",
       "      <td>22 Years and 5 Months</td>\n",
       "      <td>No</td>\n",
       "      <td>49.574949</td>\n",
       "      <td>41.420153086217326</td>\n",
       "      <td>High_spent_Medium_value_payments</td>\n",
       "      <td>341.48923103222177</td>\n",
       "      <td>Good</td>\n",
       "    </tr>\n",
       "  </tbody>\n",
       "</table>\n",
       "<p>5 rows × 28 columns</p>\n",
       "</div>"
      ],
      "text/plain": [
       "       ID Customer_ID     Month           Name   Age          SSN Occupation  \\\n",
       "0  0x1602   CUS_0xd40   January  Aaron Maashoh    23  821-00-0265  Scientist   \n",
       "1  0x1603   CUS_0xd40  February  Aaron Maashoh    23  821-00-0265  Scientist   \n",
       "2  0x1604   CUS_0xd40     March  Aaron Maashoh  -500  821-00-0265  Scientist   \n",
       "3  0x1605   CUS_0xd40     April  Aaron Maashoh    23  821-00-0265  Scientist   \n",
       "4  0x1606   CUS_0xd40       May  Aaron Maashoh    23  821-00-0265  Scientist   \n",
       "\n",
       "  Annual_Income  Monthly_Inhand_Salary  Num_Bank_Accounts  ...  Credit_Mix  \\\n",
       "0      19114.12            1824.843333                  3  ...           _   \n",
       "1      19114.12                    NaN                  3  ...        Good   \n",
       "2      19114.12                    NaN                  3  ...        Good   \n",
       "3      19114.12                    NaN                  3  ...        Good   \n",
       "4      19114.12            1824.843333                  3  ...        Good   \n",
       "\n",
       "   Outstanding_Debt Credit_Utilization_Ratio     Credit_History_Age  \\\n",
       "0            809.98                26.822620  22 Years and 1 Months   \n",
       "1            809.98                31.944960                    NaN   \n",
       "2            809.98                28.609352  22 Years and 3 Months   \n",
       "3            809.98                31.377862  22 Years and 4 Months   \n",
       "4            809.98                24.797347  22 Years and 5 Months   \n",
       "\n",
       "   Payment_of_Min_Amount Total_EMI_per_month Amount_invested_monthly  \\\n",
       "0                     No           49.574949       80.41529543900253   \n",
       "1                     No           49.574949      118.28022162236736   \n",
       "2                     No           49.574949         81.699521264648   \n",
       "3                     No           49.574949       199.4580743910713   \n",
       "4                     No           49.574949      41.420153086217326   \n",
       "\n",
       "                  Payment_Behaviour     Monthly_Balance Credit_Score  \n",
       "0   High_spent_Small_value_payments  312.49408867943663         Good  \n",
       "1    Low_spent_Large_value_payments  284.62916249607184         Good  \n",
       "2   Low_spent_Medium_value_payments   331.2098628537912         Good  \n",
       "3    Low_spent_Small_value_payments  223.45130972736786         Good  \n",
       "4  High_spent_Medium_value_payments  341.48923103222177         Good  \n",
       "\n",
       "[5 rows x 28 columns]"
      ]
     },
     "execution_count": 3,
     "metadata": {},
     "output_type": "execute_result"
    }
   ],
   "source": [
    "train = pd.read_csv(\"train1.csv\",low_memory=False)\n",
    "train.head()"
   ]
  },
  {
   "cell_type": "markdown",
   "id": "67dd2679",
   "metadata": {},
   "source": [
    "## Data Cleaning"
   ]
  },
  {
   "cell_type": "code",
   "execution_count": 4,
   "id": "bbb1ce4f",
   "metadata": {},
   "outputs": [],
   "source": [
    "# Irrelavant Features\n",
    "\n",
    "train.drop(columns=[\"ID\",\"Name\",\"SSN\",\"Month\",\"Customer_ID\",\"Type_of_Loan\"],inplace=True,axis=1)"
   ]
  },
  {
   "cell_type": "code",
   "execution_count": 5,
   "id": "1b6ef2db",
   "metadata": {},
   "outputs": [],
   "source": [
    "# TAKE THE FIRST TWO NUMBERS\n",
    "\n",
    "train[\"Credit_History_Age\"] = train[\"Credit_History_Age\"].str[:2]"
   ]
  },
  {
   "cell_type": "code",
   "execution_count": 6,
   "id": "8ac8c527",
   "metadata": {},
   "outputs": [],
   "source": [
    "# REPLACE \"!@9#%8\" AND \"_______\" FROM FEATURES WITH NAN\n",
    "train = train.replace(\"!@9#%8\",np.nan,regex=True)\n",
    "train = train.replace(\"_______\",np.nan,regex=True)"
   ]
  },
  {
   "cell_type": "code",
   "execution_count": 7,
   "id": "da8ff87f",
   "metadata": {},
   "outputs": [],
   "source": [
    "# REMOVE THE UNDERSCORES FROM THE END OF TAHE VALUES\n",
    "train[\"Age\"] = train[\"Age\"].str.rstrip(\"_\")\n",
    "train[\"Annual_Income\"] = train[\"Annual_Income\"].str.rstrip(\"_\")\n",
    "train[\"Outstanding_Debt\"] = train[\"Outstanding_Debt\"].str.rstrip(\"_\")\n",
    "train[\"Num_of_Loan\"] = train[\"Num_of_Loan\"].str.rstrip(\"_\")\n",
    "train[\"Num_of_Delayed_Payment\"] = train[\"Num_of_Delayed_Payment\"].str.rstrip(\"_\")\n",
    "train[\"Amount_invested_monthly\"] = train[\"Amount_invested_monthly\"].str.rstrip(\"_\")\n",
    "train[\"Monthly_Balance\"] = train[\"Monthly_Balance\"].str.rstrip(\"_\")"
   ]
  },
  {
   "cell_type": "code",
   "execution_count": 8,
   "id": "176f68ec",
   "metadata": {},
   "outputs": [],
   "source": [
    "# REMOVE UNDERSCORES FROM THE COLUMNS\n",
    "\n",
    "def remove_underscore(train):\n",
    "    train['Amount_invested_monthly'] = train['Amount_invested_monthly'].str.replace('_', '')\n",
    "    train['Monthly_Balance'] = train['Monthly_Balance'].str.replace('_','')\n",
    "    train[\"Num_of_Delayed_Payment\"] = train[\"Num_of_Delayed_Payment\"].str.replace('_','')\n",
    "\n",
    "    return train\n",
    "\n",
    "train = remove_underscore(train.copy())"
   ]
  },
  {
   "cell_type": "code",
   "execution_count": 9,
   "id": "e54139bc",
   "metadata": {},
   "outputs": [],
   "source": [
    "# ENCODING Payment_Behaviour FEATURE TO MAKE IT FIT FOR THE MODEL \n",
    "\n",
    "New_one_hot = pd.get_dummies(train[\"Payment_Behaviour\"])\n",
    "train = pd.concat([train,New_one_hot],axis=1)"
   ]
  },
  {
   "cell_type": "code",
   "execution_count": 10,
   "id": "a73c4fa4",
   "metadata": {},
   "outputs": [],
   "source": [
    "Scaler = StandardScaler()\n",
    "LB = LabelEncoder()"
   ]
  },
  {
   "cell_type": "code",
   "execution_count": 11,
   "id": "40ac5a91",
   "metadata": {},
   "outputs": [
    {
     "data": {
      "text/html": [
       "<div>\n",
       "<style scoped>\n",
       "    .dataframe tbody tr th:only-of-type {\n",
       "        vertical-align: middle;\n",
       "    }\n",
       "\n",
       "    .dataframe tbody tr th {\n",
       "        vertical-align: top;\n",
       "    }\n",
       "\n",
       "    .dataframe thead th {\n",
       "        text-align: right;\n",
       "    }\n",
       "</style>\n",
       "<table border=\"1\" class=\"dataframe\">\n",
       "  <thead>\n",
       "    <tr style=\"text-align: right;\">\n",
       "      <th></th>\n",
       "      <th>Age</th>\n",
       "      <th>Occupation</th>\n",
       "      <th>Annual_Income</th>\n",
       "      <th>Monthly_Inhand_Salary</th>\n",
       "      <th>Num_Bank_Accounts</th>\n",
       "      <th>Num_Credit_Card</th>\n",
       "      <th>Interest_Rate</th>\n",
       "      <th>Num_of_Loan</th>\n",
       "      <th>Delay_from_due_date</th>\n",
       "      <th>Num_of_Delayed_Payment</th>\n",
       "      <th>...</th>\n",
       "      <th>Amount_invested_monthly</th>\n",
       "      <th>Payment_Behaviour</th>\n",
       "      <th>Monthly_Balance</th>\n",
       "      <th>Credit_Score</th>\n",
       "      <th>High_spent_Large_value_payments</th>\n",
       "      <th>High_spent_Medium_value_payments</th>\n",
       "      <th>High_spent_Small_value_payments</th>\n",
       "      <th>Low_spent_Large_value_payments</th>\n",
       "      <th>Low_spent_Medium_value_payments</th>\n",
       "      <th>Low_spent_Small_value_payments</th>\n",
       "    </tr>\n",
       "  </thead>\n",
       "  <tbody>\n",
       "    <tr>\n",
       "      <th>0</th>\n",
       "      <td>23</td>\n",
       "      <td>Scientist</td>\n",
       "      <td>19114.12</td>\n",
       "      <td>1824.843333</td>\n",
       "      <td>3</td>\n",
       "      <td>4</td>\n",
       "      <td>3</td>\n",
       "      <td>4</td>\n",
       "      <td>3</td>\n",
       "      <td>7</td>\n",
       "      <td>...</td>\n",
       "      <td>80.41529543900253</td>\n",
       "      <td>High_spent_Small_value_payments</td>\n",
       "      <td>312.49408867943663</td>\n",
       "      <td>Good</td>\n",
       "      <td>0</td>\n",
       "      <td>0</td>\n",
       "      <td>1</td>\n",
       "      <td>0</td>\n",
       "      <td>0</td>\n",
       "      <td>0</td>\n",
       "    </tr>\n",
       "    <tr>\n",
       "      <th>1</th>\n",
       "      <td>23</td>\n",
       "      <td>Scientist</td>\n",
       "      <td>19114.12</td>\n",
       "      <td>NaN</td>\n",
       "      <td>3</td>\n",
       "      <td>4</td>\n",
       "      <td>3</td>\n",
       "      <td>4</td>\n",
       "      <td>-1</td>\n",
       "      <td>NaN</td>\n",
       "      <td>...</td>\n",
       "      <td>118.28022162236736</td>\n",
       "      <td>Low_spent_Large_value_payments</td>\n",
       "      <td>284.62916249607184</td>\n",
       "      <td>Good</td>\n",
       "      <td>0</td>\n",
       "      <td>0</td>\n",
       "      <td>0</td>\n",
       "      <td>1</td>\n",
       "      <td>0</td>\n",
       "      <td>0</td>\n",
       "    </tr>\n",
       "    <tr>\n",
       "      <th>2</th>\n",
       "      <td>-500</td>\n",
       "      <td>Scientist</td>\n",
       "      <td>19114.12</td>\n",
       "      <td>NaN</td>\n",
       "      <td>3</td>\n",
       "      <td>4</td>\n",
       "      <td>3</td>\n",
       "      <td>4</td>\n",
       "      <td>3</td>\n",
       "      <td>7</td>\n",
       "      <td>...</td>\n",
       "      <td>81.699521264648</td>\n",
       "      <td>Low_spent_Medium_value_payments</td>\n",
       "      <td>331.2098628537912</td>\n",
       "      <td>Good</td>\n",
       "      <td>0</td>\n",
       "      <td>0</td>\n",
       "      <td>0</td>\n",
       "      <td>0</td>\n",
       "      <td>1</td>\n",
       "      <td>0</td>\n",
       "    </tr>\n",
       "    <tr>\n",
       "      <th>3</th>\n",
       "      <td>23</td>\n",
       "      <td>Scientist</td>\n",
       "      <td>19114.12</td>\n",
       "      <td>NaN</td>\n",
       "      <td>3</td>\n",
       "      <td>4</td>\n",
       "      <td>3</td>\n",
       "      <td>4</td>\n",
       "      <td>5</td>\n",
       "      <td>4</td>\n",
       "      <td>...</td>\n",
       "      <td>199.4580743910713</td>\n",
       "      <td>Low_spent_Small_value_payments</td>\n",
       "      <td>223.45130972736786</td>\n",
       "      <td>Good</td>\n",
       "      <td>0</td>\n",
       "      <td>0</td>\n",
       "      <td>0</td>\n",
       "      <td>0</td>\n",
       "      <td>0</td>\n",
       "      <td>1</td>\n",
       "    </tr>\n",
       "    <tr>\n",
       "      <th>4</th>\n",
       "      <td>23</td>\n",
       "      <td>Scientist</td>\n",
       "      <td>19114.12</td>\n",
       "      <td>1824.843333</td>\n",
       "      <td>3</td>\n",
       "      <td>4</td>\n",
       "      <td>3</td>\n",
       "      <td>4</td>\n",
       "      <td>6</td>\n",
       "      <td>NaN</td>\n",
       "      <td>...</td>\n",
       "      <td>41.420153086217326</td>\n",
       "      <td>High_spent_Medium_value_payments</td>\n",
       "      <td>341.48923103222177</td>\n",
       "      <td>Good</td>\n",
       "      <td>0</td>\n",
       "      <td>1</td>\n",
       "      <td>0</td>\n",
       "      <td>0</td>\n",
       "      <td>0</td>\n",
       "      <td>0</td>\n",
       "    </tr>\n",
       "  </tbody>\n",
       "</table>\n",
       "<p>5 rows × 28 columns</p>\n",
       "</div>"
      ],
      "text/plain": [
       "    Age Occupation Annual_Income  Monthly_Inhand_Salary  Num_Bank_Accounts  \\\n",
       "0    23  Scientist      19114.12            1824.843333                  3   \n",
       "1    23  Scientist      19114.12                    NaN                  3   \n",
       "2  -500  Scientist      19114.12                    NaN                  3   \n",
       "3    23  Scientist      19114.12                    NaN                  3   \n",
       "4    23  Scientist      19114.12            1824.843333                  3   \n",
       "\n",
       "   Num_Credit_Card  Interest_Rate Num_of_Loan  Delay_from_due_date  \\\n",
       "0                4              3           4                    3   \n",
       "1                4              3           4                   -1   \n",
       "2                4              3           4                    3   \n",
       "3                4              3           4                    5   \n",
       "4                4              3           4                    6   \n",
       "\n",
       "  Num_of_Delayed_Payment  ... Amount_invested_monthly  \\\n",
       "0                      7  ...       80.41529543900253   \n",
       "1                    NaN  ...      118.28022162236736   \n",
       "2                      7  ...         81.699521264648   \n",
       "3                      4  ...       199.4580743910713   \n",
       "4                    NaN  ...      41.420153086217326   \n",
       "\n",
       "                  Payment_Behaviour     Monthly_Balance Credit_Score  \\\n",
       "0   High_spent_Small_value_payments  312.49408867943663         Good   \n",
       "1    Low_spent_Large_value_payments  284.62916249607184         Good   \n",
       "2   Low_spent_Medium_value_payments   331.2098628537912         Good   \n",
       "3    Low_spent_Small_value_payments  223.45130972736786         Good   \n",
       "4  High_spent_Medium_value_payments  341.48923103222177         Good   \n",
       "\n",
       "   High_spent_Large_value_payments High_spent_Medium_value_payments  \\\n",
       "0                                0                                0   \n",
       "1                                0                                0   \n",
       "2                                0                                0   \n",
       "3                                0                                0   \n",
       "4                                0                                1   \n",
       "\n",
       "  High_spent_Small_value_payments  Low_spent_Large_value_payments  \\\n",
       "0                               1                               0   \n",
       "1                               0                               1   \n",
       "2                               0                               0   \n",
       "3                               0                               0   \n",
       "4                               0                               0   \n",
       "\n",
       "  Low_spent_Medium_value_payments Low_spent_Small_value_payments  \n",
       "0                               0                              0  \n",
       "1                               0                              0  \n",
       "2                               1                              0  \n",
       "3                               0                              1  \n",
       "4                               0                              0  \n",
       "\n",
       "[5 rows x 28 columns]"
      ]
     },
     "execution_count": 11,
     "metadata": {},
     "output_type": "execute_result"
    }
   ],
   "source": [
    "# APPLY LABEL ENCODER AFTER CONCAT THE Payment_Behaviour FEATURE VALUES TO THE DATAFRAME TO MAKE IT FIT FOR THE MODEL\n",
    "\n",
    "train['High_spent_Large_value_payments'] = LB.fit_transform(train['High_spent_Large_value_payments'])\n",
    "train['High_spent_Medium_value_payments'] = LB.fit_transform(train['High_spent_Medium_value_payments'])\n",
    "train['High_spent_Small_value_payments'] = LB.fit_transform(train['High_spent_Small_value_payments'])\n",
    "\n",
    "train['Low_spent_Large_value_payments'] = LB.fit_transform(train['Low_spent_Large_value_payments'])\n",
    "train['Low_spent_Medium_value_payments'] = LB.fit_transform(train['Low_spent_Medium_value_payments'])\n",
    "train['Low_spent_Small_value_payments'] = LB.fit_transform(train['Low_spent_Small_value_payments'])\n",
    "\n",
    "train.head()"
   ]
  },
  {
   "cell_type": "code",
   "execution_count": 12,
   "id": "33d1c192",
   "metadata": {},
   "outputs": [],
   "source": [
    "# DROPPED THE MAIN FEATURE AFTER ENCODING AND LABELD IT \n",
    "\n",
    "train.drop(\"Payment_Behaviour\",axis=1,inplace=True)"
   ]
  },
  {
   "cell_type": "code",
   "execution_count": 13,
   "id": "4f22b00f",
   "metadata": {},
   "outputs": [
    {
     "data": {
      "text/html": [
       "<div>\n",
       "<style scoped>\n",
       "    .dataframe tbody tr th:only-of-type {\n",
       "        vertical-align: middle;\n",
       "    }\n",
       "\n",
       "    .dataframe tbody tr th {\n",
       "        vertical-align: top;\n",
       "    }\n",
       "\n",
       "    .dataframe thead th {\n",
       "        text-align: right;\n",
       "    }\n",
       "</style>\n",
       "<table border=\"1\" class=\"dataframe\">\n",
       "  <thead>\n",
       "    <tr style=\"text-align: right;\">\n",
       "      <th></th>\n",
       "      <th>Age</th>\n",
       "      <th>Occupation</th>\n",
       "      <th>Annual_Income</th>\n",
       "      <th>Monthly_Inhand_Salary</th>\n",
       "      <th>Num_Bank_Accounts</th>\n",
       "      <th>Num_Credit_Card</th>\n",
       "      <th>Interest_Rate</th>\n",
       "      <th>Num_of_Loan</th>\n",
       "      <th>Delay_from_due_date</th>\n",
       "      <th>Num_of_Delayed_Payment</th>\n",
       "      <th>...</th>\n",
       "      <th>Entrepreneur</th>\n",
       "      <th>Journalist</th>\n",
       "      <th>Lawyer</th>\n",
       "      <th>Manager</th>\n",
       "      <th>Mechanic</th>\n",
       "      <th>Media_Manager</th>\n",
       "      <th>Musician</th>\n",
       "      <th>Scientist</th>\n",
       "      <th>Teacher</th>\n",
       "      <th>Writer</th>\n",
       "    </tr>\n",
       "  </thead>\n",
       "  <tbody>\n",
       "    <tr>\n",
       "      <th>0</th>\n",
       "      <td>23</td>\n",
       "      <td>Scientist</td>\n",
       "      <td>19114.12</td>\n",
       "      <td>1824.843333</td>\n",
       "      <td>3</td>\n",
       "      <td>4</td>\n",
       "      <td>3</td>\n",
       "      <td>4</td>\n",
       "      <td>3</td>\n",
       "      <td>7</td>\n",
       "      <td>...</td>\n",
       "      <td>False</td>\n",
       "      <td>False</td>\n",
       "      <td>False</td>\n",
       "      <td>False</td>\n",
       "      <td>False</td>\n",
       "      <td>False</td>\n",
       "      <td>False</td>\n",
       "      <td>True</td>\n",
       "      <td>False</td>\n",
       "      <td>False</td>\n",
       "    </tr>\n",
       "    <tr>\n",
       "      <th>1</th>\n",
       "      <td>23</td>\n",
       "      <td>Scientist</td>\n",
       "      <td>19114.12</td>\n",
       "      <td>NaN</td>\n",
       "      <td>3</td>\n",
       "      <td>4</td>\n",
       "      <td>3</td>\n",
       "      <td>4</td>\n",
       "      <td>-1</td>\n",
       "      <td>NaN</td>\n",
       "      <td>...</td>\n",
       "      <td>False</td>\n",
       "      <td>False</td>\n",
       "      <td>False</td>\n",
       "      <td>False</td>\n",
       "      <td>False</td>\n",
       "      <td>False</td>\n",
       "      <td>False</td>\n",
       "      <td>True</td>\n",
       "      <td>False</td>\n",
       "      <td>False</td>\n",
       "    </tr>\n",
       "    <tr>\n",
       "      <th>2</th>\n",
       "      <td>-500</td>\n",
       "      <td>Scientist</td>\n",
       "      <td>19114.12</td>\n",
       "      <td>NaN</td>\n",
       "      <td>3</td>\n",
       "      <td>4</td>\n",
       "      <td>3</td>\n",
       "      <td>4</td>\n",
       "      <td>3</td>\n",
       "      <td>7</td>\n",
       "      <td>...</td>\n",
       "      <td>False</td>\n",
       "      <td>False</td>\n",
       "      <td>False</td>\n",
       "      <td>False</td>\n",
       "      <td>False</td>\n",
       "      <td>False</td>\n",
       "      <td>False</td>\n",
       "      <td>True</td>\n",
       "      <td>False</td>\n",
       "      <td>False</td>\n",
       "    </tr>\n",
       "    <tr>\n",
       "      <th>3</th>\n",
       "      <td>23</td>\n",
       "      <td>Scientist</td>\n",
       "      <td>19114.12</td>\n",
       "      <td>NaN</td>\n",
       "      <td>3</td>\n",
       "      <td>4</td>\n",
       "      <td>3</td>\n",
       "      <td>4</td>\n",
       "      <td>5</td>\n",
       "      <td>4</td>\n",
       "      <td>...</td>\n",
       "      <td>False</td>\n",
       "      <td>False</td>\n",
       "      <td>False</td>\n",
       "      <td>False</td>\n",
       "      <td>False</td>\n",
       "      <td>False</td>\n",
       "      <td>False</td>\n",
       "      <td>True</td>\n",
       "      <td>False</td>\n",
       "      <td>False</td>\n",
       "    </tr>\n",
       "    <tr>\n",
       "      <th>4</th>\n",
       "      <td>23</td>\n",
       "      <td>Scientist</td>\n",
       "      <td>19114.12</td>\n",
       "      <td>1824.843333</td>\n",
       "      <td>3</td>\n",
       "      <td>4</td>\n",
       "      <td>3</td>\n",
       "      <td>4</td>\n",
       "      <td>6</td>\n",
       "      <td>NaN</td>\n",
       "      <td>...</td>\n",
       "      <td>False</td>\n",
       "      <td>False</td>\n",
       "      <td>False</td>\n",
       "      <td>False</td>\n",
       "      <td>False</td>\n",
       "      <td>False</td>\n",
       "      <td>False</td>\n",
       "      <td>True</td>\n",
       "      <td>False</td>\n",
       "      <td>False</td>\n",
       "    </tr>\n",
       "    <tr>\n",
       "      <th>...</th>\n",
       "      <td>...</td>\n",
       "      <td>...</td>\n",
       "      <td>...</td>\n",
       "      <td>...</td>\n",
       "      <td>...</td>\n",
       "      <td>...</td>\n",
       "      <td>...</td>\n",
       "      <td>...</td>\n",
       "      <td>...</td>\n",
       "      <td>...</td>\n",
       "      <td>...</td>\n",
       "      <td>...</td>\n",
       "      <td>...</td>\n",
       "      <td>...</td>\n",
       "      <td>...</td>\n",
       "      <td>...</td>\n",
       "      <td>...</td>\n",
       "      <td>...</td>\n",
       "      <td>...</td>\n",
       "      <td>...</td>\n",
       "      <td>...</td>\n",
       "    </tr>\n",
       "    <tr>\n",
       "      <th>99995</th>\n",
       "      <td>25</td>\n",
       "      <td>Mechanic</td>\n",
       "      <td>39628.99</td>\n",
       "      <td>3359.415833</td>\n",
       "      <td>4</td>\n",
       "      <td>6</td>\n",
       "      <td>7</td>\n",
       "      <td>2</td>\n",
       "      <td>23</td>\n",
       "      <td>7</td>\n",
       "      <td>...</td>\n",
       "      <td>False</td>\n",
       "      <td>False</td>\n",
       "      <td>False</td>\n",
       "      <td>False</td>\n",
       "      <td>True</td>\n",
       "      <td>False</td>\n",
       "      <td>False</td>\n",
       "      <td>False</td>\n",
       "      <td>False</td>\n",
       "      <td>False</td>\n",
       "    </tr>\n",
       "    <tr>\n",
       "      <th>99996</th>\n",
       "      <td>25</td>\n",
       "      <td>Mechanic</td>\n",
       "      <td>39628.99</td>\n",
       "      <td>3359.415833</td>\n",
       "      <td>4</td>\n",
       "      <td>6</td>\n",
       "      <td>7</td>\n",
       "      <td>2</td>\n",
       "      <td>18</td>\n",
       "      <td>7</td>\n",
       "      <td>...</td>\n",
       "      <td>False</td>\n",
       "      <td>False</td>\n",
       "      <td>False</td>\n",
       "      <td>False</td>\n",
       "      <td>True</td>\n",
       "      <td>False</td>\n",
       "      <td>False</td>\n",
       "      <td>False</td>\n",
       "      <td>False</td>\n",
       "      <td>False</td>\n",
       "    </tr>\n",
       "    <tr>\n",
       "      <th>99997</th>\n",
       "      <td>25</td>\n",
       "      <td>Mechanic</td>\n",
       "      <td>39628.99</td>\n",
       "      <td>3359.415833</td>\n",
       "      <td>4</td>\n",
       "      <td>6</td>\n",
       "      <td>5729</td>\n",
       "      <td>2</td>\n",
       "      <td>27</td>\n",
       "      <td>6</td>\n",
       "      <td>...</td>\n",
       "      <td>False</td>\n",
       "      <td>False</td>\n",
       "      <td>False</td>\n",
       "      <td>False</td>\n",
       "      <td>True</td>\n",
       "      <td>False</td>\n",
       "      <td>False</td>\n",
       "      <td>False</td>\n",
       "      <td>False</td>\n",
       "      <td>False</td>\n",
       "    </tr>\n",
       "    <tr>\n",
       "      <th>99998</th>\n",
       "      <td>25</td>\n",
       "      <td>Mechanic</td>\n",
       "      <td>39628.99</td>\n",
       "      <td>3359.415833</td>\n",
       "      <td>4</td>\n",
       "      <td>6</td>\n",
       "      <td>7</td>\n",
       "      <td>2</td>\n",
       "      <td>20</td>\n",
       "      <td>NaN</td>\n",
       "      <td>...</td>\n",
       "      <td>False</td>\n",
       "      <td>False</td>\n",
       "      <td>False</td>\n",
       "      <td>False</td>\n",
       "      <td>True</td>\n",
       "      <td>False</td>\n",
       "      <td>False</td>\n",
       "      <td>False</td>\n",
       "      <td>False</td>\n",
       "      <td>False</td>\n",
       "    </tr>\n",
       "    <tr>\n",
       "      <th>99999</th>\n",
       "      <td>25</td>\n",
       "      <td>Mechanic</td>\n",
       "      <td>39628.99</td>\n",
       "      <td>3359.415833</td>\n",
       "      <td>4</td>\n",
       "      <td>6</td>\n",
       "      <td>7</td>\n",
       "      <td>2</td>\n",
       "      <td>18</td>\n",
       "      <td>6</td>\n",
       "      <td>...</td>\n",
       "      <td>False</td>\n",
       "      <td>False</td>\n",
       "      <td>False</td>\n",
       "      <td>False</td>\n",
       "      <td>True</td>\n",
       "      <td>False</td>\n",
       "      <td>False</td>\n",
       "      <td>False</td>\n",
       "      <td>False</td>\n",
       "      <td>False</td>\n",
       "    </tr>\n",
       "  </tbody>\n",
       "</table>\n",
       "<p>100000 rows × 42 columns</p>\n",
       "</div>"
      ],
      "text/plain": [
       "        Age Occupation Annual_Income  Monthly_Inhand_Salary  \\\n",
       "0        23  Scientist      19114.12            1824.843333   \n",
       "1        23  Scientist      19114.12                    NaN   \n",
       "2      -500  Scientist      19114.12                    NaN   \n",
       "3        23  Scientist      19114.12                    NaN   \n",
       "4        23  Scientist      19114.12            1824.843333   \n",
       "...     ...        ...           ...                    ...   \n",
       "99995    25   Mechanic      39628.99            3359.415833   \n",
       "99996    25   Mechanic      39628.99            3359.415833   \n",
       "99997    25   Mechanic      39628.99            3359.415833   \n",
       "99998    25   Mechanic      39628.99            3359.415833   \n",
       "99999    25   Mechanic      39628.99            3359.415833   \n",
       "\n",
       "       Num_Bank_Accounts  Num_Credit_Card  Interest_Rate Num_of_Loan  \\\n",
       "0                      3                4              3           4   \n",
       "1                      3                4              3           4   \n",
       "2                      3                4              3           4   \n",
       "3                      3                4              3           4   \n",
       "4                      3                4              3           4   \n",
       "...                  ...              ...            ...         ...   \n",
       "99995                  4                6              7           2   \n",
       "99996                  4                6              7           2   \n",
       "99997                  4                6           5729           2   \n",
       "99998                  4                6              7           2   \n",
       "99999                  4                6              7           2   \n",
       "\n",
       "       Delay_from_due_date Num_of_Delayed_Payment  ... Entrepreneur  \\\n",
       "0                        3                      7  ...        False   \n",
       "1                       -1                    NaN  ...        False   \n",
       "2                        3                      7  ...        False   \n",
       "3                        5                      4  ...        False   \n",
       "4                        6                    NaN  ...        False   \n",
       "...                    ...                    ...  ...          ...   \n",
       "99995                   23                      7  ...        False   \n",
       "99996                   18                      7  ...        False   \n",
       "99997                   27                      6  ...        False   \n",
       "99998                   20                    NaN  ...        False   \n",
       "99999                   18                      6  ...        False   \n",
       "\n",
       "       Journalist Lawyer Manager  Mechanic Media_Manager Musician  Scientist  \\\n",
       "0           False  False   False     False         False    False       True   \n",
       "1           False  False   False     False         False    False       True   \n",
       "2           False  False   False     False         False    False       True   \n",
       "3           False  False   False     False         False    False       True   \n",
       "4           False  False   False     False         False    False       True   \n",
       "...           ...    ...     ...       ...           ...      ...        ...   \n",
       "99995       False  False   False      True         False    False      False   \n",
       "99996       False  False   False      True         False    False      False   \n",
       "99997       False  False   False      True         False    False      False   \n",
       "99998       False  False   False      True         False    False      False   \n",
       "99999       False  False   False      True         False    False      False   \n",
       "\n",
       "      Teacher Writer  \n",
       "0       False  False  \n",
       "1       False  False  \n",
       "2       False  False  \n",
       "3       False  False  \n",
       "4       False  False  \n",
       "...       ...    ...  \n",
       "99995   False  False  \n",
       "99996   False  False  \n",
       "99997   False  False  \n",
       "99998   False  False  \n",
       "99999   False  False  \n",
       "\n",
       "[100000 rows x 42 columns]"
      ]
     },
     "execution_count": 13,
     "metadata": {},
     "output_type": "execute_result"
    }
   ],
   "source": [
    "# ENCODING Occupation FEATURE TO MAKE IT FIT FOR THE MODEL\n",
    "\n",
    "one_hot_Occupation = pd.get_dummies(train[\"Occupation\"])\n",
    "train = pd.concat([train,one_hot_Occupation],axis=1)\n",
    "train"
   ]
  },
  {
   "cell_type": "code",
   "execution_count": 14,
   "id": "048587d4",
   "metadata": {},
   "outputs": [
    {
     "data": {
      "text/html": [
       "<div>\n",
       "<style scoped>\n",
       "    .dataframe tbody tr th:only-of-type {\n",
       "        vertical-align: middle;\n",
       "    }\n",
       "\n",
       "    .dataframe tbody tr th {\n",
       "        vertical-align: top;\n",
       "    }\n",
       "\n",
       "    .dataframe thead th {\n",
       "        text-align: right;\n",
       "    }\n",
       "</style>\n",
       "<table border=\"1\" class=\"dataframe\">\n",
       "  <thead>\n",
       "    <tr style=\"text-align: right;\">\n",
       "      <th></th>\n",
       "      <th>Age</th>\n",
       "      <th>Annual_Income</th>\n",
       "      <th>Monthly_Inhand_Salary</th>\n",
       "      <th>Num_Bank_Accounts</th>\n",
       "      <th>Num_Credit_Card</th>\n",
       "      <th>Interest_Rate</th>\n",
       "      <th>Num_of_Loan</th>\n",
       "      <th>Delay_from_due_date</th>\n",
       "      <th>Num_of_Delayed_Payment</th>\n",
       "      <th>Changed_Credit_Limit</th>\n",
       "      <th>...</th>\n",
       "      <th>Entrepreneur</th>\n",
       "      <th>Journalist</th>\n",
       "      <th>Lawyer</th>\n",
       "      <th>Manager</th>\n",
       "      <th>Mechanic</th>\n",
       "      <th>Media_Manager</th>\n",
       "      <th>Musician</th>\n",
       "      <th>Scientist</th>\n",
       "      <th>Teacher</th>\n",
       "      <th>Writer</th>\n",
       "    </tr>\n",
       "  </thead>\n",
       "  <tbody>\n",
       "    <tr>\n",
       "      <th>0</th>\n",
       "      <td>23</td>\n",
       "      <td>19114.12</td>\n",
       "      <td>1824.843333</td>\n",
       "      <td>3</td>\n",
       "      <td>4</td>\n",
       "      <td>3</td>\n",
       "      <td>4</td>\n",
       "      <td>3</td>\n",
       "      <td>7</td>\n",
       "      <td>11.27</td>\n",
       "      <td>...</td>\n",
       "      <td>0</td>\n",
       "      <td>0</td>\n",
       "      <td>0</td>\n",
       "      <td>0</td>\n",
       "      <td>0</td>\n",
       "      <td>0</td>\n",
       "      <td>0</td>\n",
       "      <td>1</td>\n",
       "      <td>0</td>\n",
       "      <td>0</td>\n",
       "    </tr>\n",
       "    <tr>\n",
       "      <th>1</th>\n",
       "      <td>23</td>\n",
       "      <td>19114.12</td>\n",
       "      <td>NaN</td>\n",
       "      <td>3</td>\n",
       "      <td>4</td>\n",
       "      <td>3</td>\n",
       "      <td>4</td>\n",
       "      <td>-1</td>\n",
       "      <td>NaN</td>\n",
       "      <td>11.27</td>\n",
       "      <td>...</td>\n",
       "      <td>0</td>\n",
       "      <td>0</td>\n",
       "      <td>0</td>\n",
       "      <td>0</td>\n",
       "      <td>0</td>\n",
       "      <td>0</td>\n",
       "      <td>0</td>\n",
       "      <td>1</td>\n",
       "      <td>0</td>\n",
       "      <td>0</td>\n",
       "    </tr>\n",
       "    <tr>\n",
       "      <th>2</th>\n",
       "      <td>-500</td>\n",
       "      <td>19114.12</td>\n",
       "      <td>NaN</td>\n",
       "      <td>3</td>\n",
       "      <td>4</td>\n",
       "      <td>3</td>\n",
       "      <td>4</td>\n",
       "      <td>3</td>\n",
       "      <td>7</td>\n",
       "      <td>_</td>\n",
       "      <td>...</td>\n",
       "      <td>0</td>\n",
       "      <td>0</td>\n",
       "      <td>0</td>\n",
       "      <td>0</td>\n",
       "      <td>0</td>\n",
       "      <td>0</td>\n",
       "      <td>0</td>\n",
       "      <td>1</td>\n",
       "      <td>0</td>\n",
       "      <td>0</td>\n",
       "    </tr>\n",
       "    <tr>\n",
       "      <th>3</th>\n",
       "      <td>23</td>\n",
       "      <td>19114.12</td>\n",
       "      <td>NaN</td>\n",
       "      <td>3</td>\n",
       "      <td>4</td>\n",
       "      <td>3</td>\n",
       "      <td>4</td>\n",
       "      <td>5</td>\n",
       "      <td>4</td>\n",
       "      <td>6.27</td>\n",
       "      <td>...</td>\n",
       "      <td>0</td>\n",
       "      <td>0</td>\n",
       "      <td>0</td>\n",
       "      <td>0</td>\n",
       "      <td>0</td>\n",
       "      <td>0</td>\n",
       "      <td>0</td>\n",
       "      <td>1</td>\n",
       "      <td>0</td>\n",
       "      <td>0</td>\n",
       "    </tr>\n",
       "    <tr>\n",
       "      <th>4</th>\n",
       "      <td>23</td>\n",
       "      <td>19114.12</td>\n",
       "      <td>1824.843333</td>\n",
       "      <td>3</td>\n",
       "      <td>4</td>\n",
       "      <td>3</td>\n",
       "      <td>4</td>\n",
       "      <td>6</td>\n",
       "      <td>NaN</td>\n",
       "      <td>11.27</td>\n",
       "      <td>...</td>\n",
       "      <td>0</td>\n",
       "      <td>0</td>\n",
       "      <td>0</td>\n",
       "      <td>0</td>\n",
       "      <td>0</td>\n",
       "      <td>0</td>\n",
       "      <td>0</td>\n",
       "      <td>1</td>\n",
       "      <td>0</td>\n",
       "      <td>0</td>\n",
       "    </tr>\n",
       "  </tbody>\n",
       "</table>\n",
       "<p>5 rows × 41 columns</p>\n",
       "</div>"
      ],
      "text/plain": [
       "    Age Annual_Income  Monthly_Inhand_Salary  Num_Bank_Accounts  \\\n",
       "0    23      19114.12            1824.843333                  3   \n",
       "1    23      19114.12                    NaN                  3   \n",
       "2  -500      19114.12                    NaN                  3   \n",
       "3    23      19114.12                    NaN                  3   \n",
       "4    23      19114.12            1824.843333                  3   \n",
       "\n",
       "   Num_Credit_Card  Interest_Rate Num_of_Loan  Delay_from_due_date  \\\n",
       "0                4              3           4                    3   \n",
       "1                4              3           4                   -1   \n",
       "2                4              3           4                    3   \n",
       "3                4              3           4                    5   \n",
       "4                4              3           4                    6   \n",
       "\n",
       "  Num_of_Delayed_Payment Changed_Credit_Limit  ...  Entrepreneur Journalist  \\\n",
       "0                      7                11.27  ...             0          0   \n",
       "1                    NaN                11.27  ...             0          0   \n",
       "2                      7                    _  ...             0          0   \n",
       "3                      4                 6.27  ...             0          0   \n",
       "4                    NaN                11.27  ...             0          0   \n",
       "\n",
       "  Lawyer  Manager Mechanic Media_Manager  Musician Scientist Teacher Writer  \n",
       "0      0        0        0             0         0         1       0      0  \n",
       "1      0        0        0             0         0         1       0      0  \n",
       "2      0        0        0             0         0         1       0      0  \n",
       "3      0        0        0             0         0         1       0      0  \n",
       "4      0        0        0             0         0         1       0      0  \n",
       "\n",
       "[5 rows x 41 columns]"
      ]
     },
     "execution_count": 14,
     "metadata": {},
     "output_type": "execute_result"
    }
   ],
   "source": [
    "# APPLY LABEL ENCODER AFTER CONCAT THE Occupation FEATURE VALUES TO THE DATAFRAME TO MAKE IT FIT FOR THE MODEL\n",
    "\n",
    "train['Scientist'] = LB.fit_transform(train['Scientist'])\n",
    "train['Teacher'] = LB.fit_transform(train['Teacher'])\n",
    "train['Developer'] = LB.fit_transform(train['Developer'])\n",
    "\n",
    "train['Lawyer'] = LB.fit_transform(train['Lawyer'])\n",
    "train['Entrepreneur'] = LB.fit_transform(train['Entrepreneur'])\n",
    "train['Accountant'] = LB.fit_transform(train['Accountant'])\n",
    "\n",
    "train['Mechanic'] = LB.fit_transform(train['Mechanic'])\n",
    "train['Writer'] = LB.fit_transform(train['Writer'])\n",
    "train['Manager'] = LB.fit_transform(train['Manager'])\n",
    "\n",
    "train['Media_Manager'] = LB.fit_transform(train['Media_Manager'])\n",
    "train['Musician'] = LB.fit_transform(train['Musician'])\n",
    "train['Journalist'] = LB.fit_transform(train['Journalist'])\n",
    "\n",
    "train['Architect'] = LB.fit_transform(train['Architect'])\n",
    "train['Doctor'] = LB.fit_transform(train['Doctor'])\n",
    "train['Engineer'] = LB.fit_transform(train['Engineer'])\n",
    "\n",
    "# DROPPED THE MAIN FEATURE AFTER ENCODING AND LABELD IT \n",
    "train.drop(\"Occupation\",inplace=True,axis=1)\n",
    "\n",
    "train.head()"
   ]
  },
  {
   "cell_type": "code",
   "execution_count": 15,
   "id": "b548800a",
   "metadata": {},
   "outputs": [],
   "source": [
    "# LABEL THE FEATURES TO MAKE IT FIT FOR THE MODEL \n",
    "\n",
    "train[\"Credit_Mix\"] = LB.fit_transform(train[\"Credit_Mix\"])\n",
    "train[\"Credit_Score\"] = LB.fit_transform(train[\"Credit_Score\"])\n",
    "train[\"Payment_of_Min_Amount\"] = LB.fit_transform(train[\"Payment_of_Min_Amount\"])"
   ]
  },
  {
   "cell_type": "code",
   "execution_count": 16,
   "id": "7c7125fe",
   "metadata": {},
   "outputs": [],
   "source": [
    "# REPLACE THE UNDERSCORES FROM Changed_Credit_Limit FEATURE WITH NAN\n",
    "\n",
    "train[\"Changed_Credit_Limit\"] = train[\"Changed_Credit_Limit\"].replace(\"_\",np.nan)"
   ]
  },
  {
   "cell_type": "code",
   "execution_count": 17,
   "id": "4a799c26",
   "metadata": {},
   "outputs": [],
   "source": [
    "# FILL NA WITH MEDIAN\n",
    "\n",
    "train = train.fillna(train.median())"
   ]
  },
  {
   "cell_type": "code",
   "execution_count": 18,
   "id": "3d50380e",
   "metadata": {},
   "outputs": [],
   "source": [
    "# CHANGE THE TYPES OF THE DATASET\n",
    "\n",
    "train = train.astype({\n",
    "                     \"Num_of_Loan\":int,\n",
    "                     \"Num_of_Delayed_Payment\":float,\n",
    "                     \"Outstanding_Debt\":float,\n",
    "                     \"Payment_of_Min_Amount\":int,\n",
    "                     \"Amount_invested_monthly\":float,\n",
    "                     \"Monthly_Balance\":float,\n",
    "                     \"Credit_History_Age\": int,\n",
    "                     \"Changed_Credit_Limit\": float,\n",
    "                     \"Credit_History_Age\": int,\n",
    "                     \"Age\": int,\n",
    "                     \"Annual_Income\":float})"
   ]
  },
  {
   "cell_type": "code",
   "execution_count": 19,
   "id": "b9ad0573",
   "metadata": {},
   "outputs": [
    {
     "name": "stdout",
     "output_type": "stream",
     "text": [
      "<class 'pandas.core.frame.DataFrame'>\n",
      "RangeIndex: 100000 entries, 0 to 99999\n",
      "Data columns (total 41 columns):\n",
      " #   Column                            Non-Null Count   Dtype  \n",
      "---  ------                            --------------   -----  \n",
      " 0   Age                               100000 non-null  int32  \n",
      " 1   Annual_Income                     100000 non-null  float64\n",
      " 2   Monthly_Inhand_Salary             100000 non-null  float64\n",
      " 3   Num_Bank_Accounts                 100000 non-null  int64  \n",
      " 4   Num_Credit_Card                   100000 non-null  int64  \n",
      " 5   Interest_Rate                     100000 non-null  int64  \n",
      " 6   Num_of_Loan                       100000 non-null  int32  \n",
      " 7   Delay_from_due_date               100000 non-null  int64  \n",
      " 8   Num_of_Delayed_Payment            100000 non-null  float64\n",
      " 9   Changed_Credit_Limit              100000 non-null  float64\n",
      " 10  Num_Credit_Inquiries              100000 non-null  float64\n",
      " 11  Credit_Mix                        100000 non-null  int32  \n",
      " 12  Outstanding_Debt                  100000 non-null  float64\n",
      " 13  Credit_Utilization_Ratio          100000 non-null  float64\n",
      " 14  Credit_History_Age                100000 non-null  int32  \n",
      " 15  Payment_of_Min_Amount             100000 non-null  int32  \n",
      " 16  Total_EMI_per_month               100000 non-null  float64\n",
      " 17  Amount_invested_monthly           100000 non-null  float64\n",
      " 18  Monthly_Balance                   100000 non-null  float64\n",
      " 19  Credit_Score                      100000 non-null  int32  \n",
      " 20  High_spent_Large_value_payments   100000 non-null  int64  \n",
      " 21  High_spent_Medium_value_payments  100000 non-null  int64  \n",
      " 22  High_spent_Small_value_payments   100000 non-null  int64  \n",
      " 23  Low_spent_Large_value_payments    100000 non-null  int64  \n",
      " 24  Low_spent_Medium_value_payments   100000 non-null  int64  \n",
      " 25  Low_spent_Small_value_payments    100000 non-null  int64  \n",
      " 26  Accountant                        100000 non-null  int64  \n",
      " 27  Architect                         100000 non-null  int64  \n",
      " 28  Developer                         100000 non-null  int64  \n",
      " 29  Doctor                            100000 non-null  int64  \n",
      " 30  Engineer                          100000 non-null  int64  \n",
      " 31  Entrepreneur                      100000 non-null  int64  \n",
      " 32  Journalist                        100000 non-null  int64  \n",
      " 33  Lawyer                            100000 non-null  int64  \n",
      " 34  Manager                           100000 non-null  int64  \n",
      " 35  Mechanic                          100000 non-null  int64  \n",
      " 36  Media_Manager                     100000 non-null  int64  \n",
      " 37  Musician                          100000 non-null  int64  \n",
      " 38  Scientist                         100000 non-null  int64  \n",
      " 39  Teacher                           100000 non-null  int64  \n",
      " 40  Writer                            100000 non-null  int64  \n",
      "dtypes: float64(10), int32(6), int64(25)\n",
      "memory usage: 29.0 MB\n"
     ]
    }
   ],
   "source": [
    "# NO NAN VALUES\n",
    "\n",
    "train.info()"
   ]
  },
  {
   "cell_type": "markdown",
   "id": "ce421037",
   "metadata": {},
   "source": [
    "## Data Preprocessing"
   ]
  },
  {
   "cell_type": "code",
   "execution_count": 20,
   "id": "da94f2f2",
   "metadata": {},
   "outputs": [
    {
     "data": {
      "text/html": [
       "<div>\n",
       "<style scoped>\n",
       "    .dataframe tbody tr th:only-of-type {\n",
       "        vertical-align: middle;\n",
       "    }\n",
       "\n",
       "    .dataframe tbody tr th {\n",
       "        vertical-align: top;\n",
       "    }\n",
       "\n",
       "    .dataframe thead th {\n",
       "        text-align: right;\n",
       "    }\n",
       "</style>\n",
       "<table border=\"1\" class=\"dataframe\">\n",
       "  <thead>\n",
       "    <tr style=\"text-align: right;\">\n",
       "      <th></th>\n",
       "      <th>Age</th>\n",
       "      <th>Annual_Income</th>\n",
       "      <th>Monthly_Inhand_Salary</th>\n",
       "      <th>Num_Bank_Accounts</th>\n",
       "      <th>Num_Credit_Card</th>\n",
       "      <th>Interest_Rate</th>\n",
       "      <th>Num_of_Loan</th>\n",
       "      <th>Delay_from_due_date</th>\n",
       "      <th>Num_of_Delayed_Payment</th>\n",
       "      <th>Changed_Credit_Limit</th>\n",
       "      <th>...</th>\n",
       "      <th>Entrepreneur</th>\n",
       "      <th>Journalist</th>\n",
       "      <th>Lawyer</th>\n",
       "      <th>Manager</th>\n",
       "      <th>Mechanic</th>\n",
       "      <th>Media_Manager</th>\n",
       "      <th>Musician</th>\n",
       "      <th>Scientist</th>\n",
       "      <th>Teacher</th>\n",
       "      <th>Writer</th>\n",
       "    </tr>\n",
       "  </thead>\n",
       "  <tbody>\n",
       "    <tr>\n",
       "      <th>count</th>\n",
       "      <td>100000.000000</td>\n",
       "      <td>1.000000e+05</td>\n",
       "      <td>100000.000000</td>\n",
       "      <td>100000.000000</td>\n",
       "      <td>100000.00000</td>\n",
       "      <td>100000.000000</td>\n",
       "      <td>100000.000000</td>\n",
       "      <td>100000.000000</td>\n",
       "      <td>100000.000000</td>\n",
       "      <td>100000.000000</td>\n",
       "      <td>...</td>\n",
       "      <td>100000.000000</td>\n",
       "      <td>100000.000000</td>\n",
       "      <td>100000.000000</td>\n",
       "      <td>100000.000000</td>\n",
       "      <td>100000.000000</td>\n",
       "      <td>100000.000000</td>\n",
       "      <td>100000.000000</td>\n",
       "      <td>100000.000000</td>\n",
       "      <td>100000.000000</td>\n",
       "      <td>100000.000000</td>\n",
       "    </tr>\n",
       "    <tr>\n",
       "      <th>mean</th>\n",
       "      <td>110.649700</td>\n",
       "      <td>1.764157e+05</td>\n",
       "      <td>4029.084964</td>\n",
       "      <td>17.091280</td>\n",
       "      <td>22.47443</td>\n",
       "      <td>72.466040</td>\n",
       "      <td>3.009960</td>\n",
       "      <td>21.068780</td>\n",
       "      <td>29.738370</td>\n",
       "      <td>10.368345</td>\n",
       "      <td>...</td>\n",
       "      <td>0.061740</td>\n",
       "      <td>0.060850</td>\n",
       "      <td>0.065750</td>\n",
       "      <td>0.059730</td>\n",
       "      <td>0.062910</td>\n",
       "      <td>0.062320</td>\n",
       "      <td>0.059110</td>\n",
       "      <td>0.062990</td>\n",
       "      <td>0.062150</td>\n",
       "      <td>0.058850</td>\n",
       "    </tr>\n",
       "    <tr>\n",
       "      <th>std</th>\n",
       "      <td>686.244717</td>\n",
       "      <td>1.429618e+06</td>\n",
       "      <td>2961.363540</td>\n",
       "      <td>117.404834</td>\n",
       "      <td>129.05741</td>\n",
       "      <td>466.422621</td>\n",
       "      <td>62.647879</td>\n",
       "      <td>14.860104</td>\n",
       "      <td>218.017612</td>\n",
       "      <td>6.719627</td>\n",
       "      <td>...</td>\n",
       "      <td>0.240684</td>\n",
       "      <td>0.239056</td>\n",
       "      <td>0.247846</td>\n",
       "      <td>0.236987</td>\n",
       "      <td>0.242802</td>\n",
       "      <td>0.241737</td>\n",
       "      <td>0.235832</td>\n",
       "      <td>0.242946</td>\n",
       "      <td>0.241429</td>\n",
       "      <td>0.235345</td>\n",
       "    </tr>\n",
       "    <tr>\n",
       "      <th>min</th>\n",
       "      <td>-500.000000</td>\n",
       "      <td>7.005930e+03</td>\n",
       "      <td>303.645417</td>\n",
       "      <td>-1.000000</td>\n",
       "      <td>0.00000</td>\n",
       "      <td>1.000000</td>\n",
       "      <td>-100.000000</td>\n",
       "      <td>-5.000000</td>\n",
       "      <td>-3.000000</td>\n",
       "      <td>-6.490000</td>\n",
       "      <td>...</td>\n",
       "      <td>0.000000</td>\n",
       "      <td>0.000000</td>\n",
       "      <td>0.000000</td>\n",
       "      <td>0.000000</td>\n",
       "      <td>0.000000</td>\n",
       "      <td>0.000000</td>\n",
       "      <td>0.000000</td>\n",
       "      <td>0.000000</td>\n",
       "      <td>0.000000</td>\n",
       "      <td>0.000000</td>\n",
       "    </tr>\n",
       "    <tr>\n",
       "      <th>25%</th>\n",
       "      <td>24.000000</td>\n",
       "      <td>1.945750e+04</td>\n",
       "      <td>1792.084167</td>\n",
       "      <td>3.000000</td>\n",
       "      <td>4.00000</td>\n",
       "      <td>8.000000</td>\n",
       "      <td>1.000000</td>\n",
       "      <td>10.000000</td>\n",
       "      <td>9.000000</td>\n",
       "      <td>5.420000</td>\n",
       "      <td>...</td>\n",
       "      <td>0.000000</td>\n",
       "      <td>0.000000</td>\n",
       "      <td>0.000000</td>\n",
       "      <td>0.000000</td>\n",
       "      <td>0.000000</td>\n",
       "      <td>0.000000</td>\n",
       "      <td>0.000000</td>\n",
       "      <td>0.000000</td>\n",
       "      <td>0.000000</td>\n",
       "      <td>0.000000</td>\n",
       "    </tr>\n",
       "    <tr>\n",
       "      <th>50%</th>\n",
       "      <td>33.000000</td>\n",
       "      <td>3.757861e+04</td>\n",
       "      <td>3093.745000</td>\n",
       "      <td>6.000000</td>\n",
       "      <td>5.00000</td>\n",
       "      <td>13.000000</td>\n",
       "      <td>3.000000</td>\n",
       "      <td>18.000000</td>\n",
       "      <td>14.000000</td>\n",
       "      <td>9.400000</td>\n",
       "      <td>...</td>\n",
       "      <td>0.000000</td>\n",
       "      <td>0.000000</td>\n",
       "      <td>0.000000</td>\n",
       "      <td>0.000000</td>\n",
       "      <td>0.000000</td>\n",
       "      <td>0.000000</td>\n",
       "      <td>0.000000</td>\n",
       "      <td>0.000000</td>\n",
       "      <td>0.000000</td>\n",
       "      <td>0.000000</td>\n",
       "    </tr>\n",
       "    <tr>\n",
       "      <th>75%</th>\n",
       "      <td>42.000000</td>\n",
       "      <td>7.279092e+04</td>\n",
       "      <td>5371.525000</td>\n",
       "      <td>7.000000</td>\n",
       "      <td>7.00000</td>\n",
       "      <td>20.000000</td>\n",
       "      <td>5.000000</td>\n",
       "      <td>28.000000</td>\n",
       "      <td>18.000000</td>\n",
       "      <td>14.660000</td>\n",
       "      <td>...</td>\n",
       "      <td>0.000000</td>\n",
       "      <td>0.000000</td>\n",
       "      <td>0.000000</td>\n",
       "      <td>0.000000</td>\n",
       "      <td>0.000000</td>\n",
       "      <td>0.000000</td>\n",
       "      <td>0.000000</td>\n",
       "      <td>0.000000</td>\n",
       "      <td>0.000000</td>\n",
       "      <td>0.000000</td>\n",
       "    </tr>\n",
       "    <tr>\n",
       "      <th>max</th>\n",
       "      <td>8698.000000</td>\n",
       "      <td>2.419806e+07</td>\n",
       "      <td>15204.633333</td>\n",
       "      <td>1798.000000</td>\n",
       "      <td>1499.00000</td>\n",
       "      <td>5797.000000</td>\n",
       "      <td>1496.000000</td>\n",
       "      <td>67.000000</td>\n",
       "      <td>4397.000000</td>\n",
       "      <td>36.970000</td>\n",
       "      <td>...</td>\n",
       "      <td>1.000000</td>\n",
       "      <td>1.000000</td>\n",
       "      <td>1.000000</td>\n",
       "      <td>1.000000</td>\n",
       "      <td>1.000000</td>\n",
       "      <td>1.000000</td>\n",
       "      <td>1.000000</td>\n",
       "      <td>1.000000</td>\n",
       "      <td>1.000000</td>\n",
       "      <td>1.000000</td>\n",
       "    </tr>\n",
       "  </tbody>\n",
       "</table>\n",
       "<p>8 rows × 41 columns</p>\n",
       "</div>"
      ],
      "text/plain": [
       "                 Age  Annual_Income  Monthly_Inhand_Salary  Num_Bank_Accounts  \\\n",
       "count  100000.000000   1.000000e+05          100000.000000      100000.000000   \n",
       "mean      110.649700   1.764157e+05            4029.084964          17.091280   \n",
       "std       686.244717   1.429618e+06            2961.363540         117.404834   \n",
       "min      -500.000000   7.005930e+03             303.645417          -1.000000   \n",
       "25%        24.000000   1.945750e+04            1792.084167           3.000000   \n",
       "50%        33.000000   3.757861e+04            3093.745000           6.000000   \n",
       "75%        42.000000   7.279092e+04            5371.525000           7.000000   \n",
       "max      8698.000000   2.419806e+07           15204.633333        1798.000000   \n",
       "\n",
       "       Num_Credit_Card  Interest_Rate    Num_of_Loan  Delay_from_due_date  \\\n",
       "count     100000.00000  100000.000000  100000.000000        100000.000000   \n",
       "mean          22.47443      72.466040       3.009960            21.068780   \n",
       "std          129.05741     466.422621      62.647879            14.860104   \n",
       "min            0.00000       1.000000    -100.000000            -5.000000   \n",
       "25%            4.00000       8.000000       1.000000            10.000000   \n",
       "50%            5.00000      13.000000       3.000000            18.000000   \n",
       "75%            7.00000      20.000000       5.000000            28.000000   \n",
       "max         1499.00000    5797.000000    1496.000000            67.000000   \n",
       "\n",
       "       Num_of_Delayed_Payment  Changed_Credit_Limit  ...   Entrepreneur  \\\n",
       "count           100000.000000         100000.000000  ...  100000.000000   \n",
       "mean                29.738370             10.368345  ...       0.061740   \n",
       "std                218.017612              6.719627  ...       0.240684   \n",
       "min                 -3.000000             -6.490000  ...       0.000000   \n",
       "25%                  9.000000              5.420000  ...       0.000000   \n",
       "50%                 14.000000              9.400000  ...       0.000000   \n",
       "75%                 18.000000             14.660000  ...       0.000000   \n",
       "max               4397.000000             36.970000  ...       1.000000   \n",
       "\n",
       "          Journalist         Lawyer        Manager       Mechanic  \\\n",
       "count  100000.000000  100000.000000  100000.000000  100000.000000   \n",
       "mean        0.060850       0.065750       0.059730       0.062910   \n",
       "std         0.239056       0.247846       0.236987       0.242802   \n",
       "min         0.000000       0.000000       0.000000       0.000000   \n",
       "25%         0.000000       0.000000       0.000000       0.000000   \n",
       "50%         0.000000       0.000000       0.000000       0.000000   \n",
       "75%         0.000000       0.000000       0.000000       0.000000   \n",
       "max         1.000000       1.000000       1.000000       1.000000   \n",
       "\n",
       "       Media_Manager       Musician      Scientist        Teacher  \\\n",
       "count  100000.000000  100000.000000  100000.000000  100000.000000   \n",
       "mean        0.062320       0.059110       0.062990       0.062150   \n",
       "std         0.241737       0.235832       0.242946       0.241429   \n",
       "min         0.000000       0.000000       0.000000       0.000000   \n",
       "25%         0.000000       0.000000       0.000000       0.000000   \n",
       "50%         0.000000       0.000000       0.000000       0.000000   \n",
       "75%         0.000000       0.000000       0.000000       0.000000   \n",
       "max         1.000000       1.000000       1.000000       1.000000   \n",
       "\n",
       "              Writer  \n",
       "count  100000.000000  \n",
       "mean        0.058850  \n",
       "std         0.235345  \n",
       "min         0.000000  \n",
       "25%         0.000000  \n",
       "50%         0.000000  \n",
       "75%         0.000000  \n",
       "max         1.000000  \n",
       "\n",
       "[8 rows x 41 columns]"
      ]
     },
     "execution_count": 20,
     "metadata": {},
     "output_type": "execute_result"
    }
   ],
   "source": [
    "train.describe()"
   ]
  },
  {
   "cell_type": "code",
   "execution_count": 21,
   "id": "22fcd2b9",
   "metadata": {},
   "outputs": [],
   "source": [
    "# AGE WRONG VALUES AND OUTLIERS\n",
    "\n",
    "Age_Outliers = train[(train[\"Age\"] < 16) | (train['Age'] > 90)].index\n",
    "train.drop(Age_Outliers,inplace=True)"
   ]
  },
  {
   "cell_type": "code",
   "execution_count": 22,
   "id": "c4fe534c",
   "metadata": {},
   "outputs": [
    {
     "data": {
      "text/plain": [
       "<Axes: ylabel='Age'>"
      ]
     },
     "execution_count": 22,
     "metadata": {},
     "output_type": "execute_result"
    },
    {
     "data": {
      "image/png": "[encoded data removed]",
      "text/plain": [
       "<Figure size 640x480 with 1 Axes>"
      ]
     },
     "metadata": {},
     "output_type": "display_data"
    }
   ],
   "source": [
    "sns.boxplot(y = train['Age'],data=train)"
   ]
  },
  {
   "cell_type": "code",
   "execution_count": 23,
   "id": "20913ae2",
   "metadata": {},
   "outputs": [
    {
     "data": {
      "text/plain": [
       "134951.25"
      ]
     },
     "execution_count": 23,
     "metadata": {},
     "output_type": "execute_result"
    }
   ],
   "source": [
    "# CHECKING THE 0.95 QUANTILE TO DETECT OUTLIERS LIMIT\n",
    "\n",
    "train['Annual_Income'].quantile(0.95)"
   ]
  },
  {
   "cell_type": "code",
   "execution_count": 24,
   "id": "735ec151",
   "metadata": {},
   "outputs": [],
   "source": [
    "# DROP OUTLIERS 0F ANNUAL INCOME FEATURE BY INDEX\n",
    "\n",
    "Annual_Income_Outliers = train[train['Annual_Income'] > 134952].index\n",
    "train.drop(Annual_Income_Outliers,inplace=True)"
   ]
  },
  {
   "cell_type": "code",
   "execution_count": 25,
   "id": "12ae62f6",
   "metadata": {},
   "outputs": [
    {
     "data": {
      "text/plain": [
       "<Axes: ylabel='Annual_Income'>"
      ]
     },
     "execution_count": 25,
     "metadata": {},
     "output_type": "execute_result"
    },
    {
     "data": {
      "image/png": "[encoded data removed]",
      "text/plain": [
       "<Figure size 640x480 with 1 Axes>"
      ]
     },
     "metadata": {},
     "output_type": "display_data"
    }
   ],
   "source": [
    "sns.boxplot(y = train['Annual_Income'],data=train)"
   ]
  },
  {
   "cell_type": "code",
   "execution_count": 26,
   "id": "dc740672",
   "metadata": {},
   "outputs": [
    {
     "data": {
      "text/plain": [
       "9272.94"
      ]
     },
     "execution_count": 26,
     "metadata": {},
     "output_type": "execute_result"
    }
   ],
   "source": [
    "train['Monthly_Inhand_Salary'].quantile(0.95)"
   ]
  },
  {
   "cell_type": "code",
   "execution_count": 27,
   "id": "202513ae",
   "metadata": {},
   "outputs": [
    {
     "data": {
      "text/plain": [
       "48       1\n",
       "68487    1\n",
       "68558    1\n",
       "68557    1\n",
       "68556    1\n",
       "        ..\n",
       "35719    1\n",
       "35992    1\n",
       "35993    1\n",
       "35994    1\n",
       "99879    1\n",
       "Name: count, Length: 4410, dtype: int64"
      ]
     },
     "execution_count": 27,
     "metadata": {},
     "output_type": "execute_result"
    }
   ],
   "source": [
    "# NO OUTLIERS 0F Monthly_Inhand_Salary FEATURE\n",
    "#BECAUSE THERE'S A LOT OF RECOREDS THAT BIGGER THAN THE 0.95 QUANTILE NOT IRREGULARITY\n",
    "\n",
    "Monthly_Inhand_Salary_Outliers = train[train['Monthly_Inhand_Salary'] > 9300].index\n",
    "Monthly_Inhand_Salary_Outliers.value_counts()"
   ]
  },
  {
   "cell_type": "code",
   "execution_count": 28,
   "id": "fcd7d662",
   "metadata": {},
   "outputs": [
    {
     "data": {
      "text/plain": [
       "<Axes: ylabel='Monthly_Inhand_Salary'>"
      ]
     },
     "execution_count": 28,
     "metadata": {},
     "output_type": "execute_result"
    },
    {
     "data": {
      "image/png": "[encoded data removed]",
      "text/plain": [
       "<Figure size 640x480 with 1 Axes>"
      ]
     },
     "metadata": {},
     "output_type": "display_data"
    }
   ],
   "source": [
    "sns.boxplot(y = train['Monthly_Inhand_Salary'],data=train)"
   ]
  },
  {
   "cell_type": "code",
   "execution_count": 29,
   "id": "8102442c",
   "metadata": {},
   "outputs": [
    {
     "data": {
      "text/plain": [
       "10.0"
      ]
     },
     "execution_count": 29,
     "metadata": {},
     "output_type": "execute_result"
    }
   ],
   "source": [
    "train[\"Num_Bank_Accounts\"].quantile(0.95)"
   ]
  },
  {
   "cell_type": "code",
   "execution_count": 30,
   "id": "f0b5e141",
   "metadata": {},
   "outputs": [],
   "source": [
    "# I CHOOSED TO DROP VALUES LARGER THAN 17 BECAUSE THERE WAS A LOT OF RECOREDS LARGER THAN 17\n",
    "\n",
    "Num_Bank_Accounts_Outliers = train[(train[\"Num_Bank_Accounts\"] > 17) | (train['Num_Bank_Accounts'] < 0)].index\n",
    "train.drop(Num_Bank_Accounts_Outliers,inplace=True)"
   ]
  },
  {
   "cell_type": "code",
   "execution_count": 31,
   "id": "19e61cb9",
   "metadata": {},
   "outputs": [
    {
     "data": {
      "text/plain": [
       "<Axes: ylabel='Num_Bank_Accounts'>"
      ]
     },
     "execution_count": 31,
     "metadata": {},
     "output_type": "execute_result"
    },
    {
     "data": {
      "image/png": "[encoded data removed]",
      "text/plain": [
       "<Figure size 640x480 with 1 Axes>"
      ]
     },
     "metadata": {},
     "output_type": "display_data"
    }
   ],
   "source": [
    "sns.boxplot(y = train['Num_Bank_Accounts'],data=train)"
   ]
  },
  {
   "cell_type": "code",
   "execution_count": 32,
   "id": "e6505864",
   "metadata": {},
   "outputs": [
    {
     "data": {
      "text/plain": [
       "10.0"
      ]
     },
     "execution_count": 32,
     "metadata": {},
     "output_type": "execute_result"
    }
   ],
   "source": [
    "train[\"Num_Credit_Card\"].quantile(0.95)"
   ]
  },
  {
   "cell_type": "code",
   "execution_count": 33,
   "id": "681de97b",
   "metadata": {},
   "outputs": [],
   "source": [
    "# DROPPED THE VALUES WHICH IS LARGER THAN 14 BECAUSE THE (0.95) QUANTILE IS 10 AND CONTAINS A BIG AMOUNT OF VALUES\n",
    "\n",
    "Num_Credit_Card_Outliers = train[(train[\"Num_Credit_Card\"] > 14) | (train['Num_Credit_Card'] < 0)].index\n",
    "train.drop(Num_Credit_Card_Outliers,inplace=True)"
   ]
  },
  {
   "cell_type": "code",
   "execution_count": 34,
   "id": "217b7efa",
   "metadata": {},
   "outputs": [
    {
     "data": {
      "text/plain": [
       "<Axes: ylabel='Num_Credit_Card'>"
      ]
     },
     "execution_count": 34,
     "metadata": {},
     "output_type": "execute_result"
    },
    {
     "data": {
      "image/png": "[encoded data removed]",
      "text/plain": [
       "<Figure size 640x480 with 1 Axes>"
      ]
     },
     "metadata": {},
     "output_type": "display_data"
    }
   ],
   "source": [
    "sns.boxplot(y = train['Num_Credit_Card'],data=train)"
   ]
  },
  {
   "cell_type": "code",
   "execution_count": 35,
   "id": "1c082e0e",
   "metadata": {},
   "outputs": [
    {
     "data": {
      "text/plain": [
       "33.0"
      ]
     },
     "execution_count": 35,
     "metadata": {},
     "output_type": "execute_result"
    }
   ],
   "source": [
    "train[\"Interest_Rate\"].quantile(0.95)"
   ]
  },
  {
   "cell_type": "code",
   "execution_count": 36,
   "id": "84d519f4",
   "metadata": {},
   "outputs": [],
   "source": [
    "# VALUES LARGER THAN 33 WAS MORE THAN 3000 I CHOOSED TO DROP THE VALUES LARGER THAN 50 TO AVOID DELETE A LOT FROM THE DATASET \n",
    "\n",
    "Interest_Rate_Outliers = train[(train[\"Interest_Rate\"] > 50) | (train['Interest_Rate'] < 0)].index\n",
    "train.drop(Interest_Rate_Outliers,inplace=True)"
   ]
  },
  {
   "cell_type": "code",
   "execution_count": 37,
   "id": "833cdc6e",
   "metadata": {},
   "outputs": [
    {
     "data": {
      "text/plain": [
       "<Axes: ylabel='Interest_Rate'>"
      ]
     },
     "execution_count": 37,
     "metadata": {},
     "output_type": "execute_result"
    },
    {
     "data": {
      "image/png": "[encoded data removed]",
      "text/plain": [
       "<Figure size 640x480 with 1 Axes>"
      ]
     },
     "metadata": {},
     "output_type": "display_data"
    }
   ],
   "source": [
    "sns.boxplot(y = train['Interest_Rate'],data=train)"
   ]
  },
  {
   "cell_type": "code",
   "execution_count": 38,
   "id": "36f1672c",
   "metadata": {},
   "outputs": [
    {
     "data": {
      "text/plain": [
       "8.0"
      ]
     },
     "execution_count": 38,
     "metadata": {},
     "output_type": "execute_result"
    }
   ],
   "source": [
    "train[\"Num_of_Loan\"].quantile(0.95)"
   ]
  },
  {
   "cell_type": "code",
   "execution_count": 39,
   "id": "f31a1ee0",
   "metadata": {},
   "outputs": [],
   "source": [
    "# IT'S ABNORMAL IF SOMEONE TOOK MORE THAN 10 LOAN! \n",
    "\n",
    "Num_of_Loan_Outliers = train[(train[\"Num_of_Loan\"] > 10) | (train['Num_of_Loan'] < 0)].index\n",
    "train.drop(Num_of_Loan_Outliers,inplace=True)"
   ]
  },
  {
   "cell_type": "code",
   "execution_count": 40,
   "id": "39f41fa0",
   "metadata": {},
   "outputs": [
    {
     "data": {
      "text/plain": [
       "<Axes: ylabel='Num_of_Loan'>"
      ]
     },
     "execution_count": 40,
     "metadata": {},
     "output_type": "execute_result"
    },
    {
     "data": {
      "image/png": "[encoded data removed]",
      "text/plain": [
       "<Figure size 640x480 with 1 Axes>"
      ]
     },
     "metadata": {},
     "output_type": "display_data"
    }
   ],
   "source": [
    "sns.boxplot(y = train['Num_of_Loan'],data=train)"
   ]
  },
  {
   "cell_type": "code",
   "execution_count": 41,
   "id": "bdd6d5e7",
   "metadata": {},
   "outputs": [
    {
     "data": {
      "text/plain": [
       "54.0"
      ]
     },
     "execution_count": 41,
     "metadata": {},
     "output_type": "execute_result"
    }
   ],
   "source": [
    "train[\"Delay_from_due_date\"].quantile(0.95)"
   ]
  },
  {
   "cell_type": "code",
   "execution_count": 42,
   "id": "67470046",
   "metadata": {},
   "outputs": [],
   "source": [
    "# LARGE GAP BETWEEN 54 AND 60 I CHOOSED TO DROP VALUES LARGER THAN 60 TO AVOID DELETE FROM THE DATA\n",
    "# SO THERE'S A POSSIBILITY THAT THE VALUES LARGER THAN 54 NOT A OUTLIER\n",
    "\n",
    "Delay_from_due_date_Outliers = train[(train[\"Delay_from_due_date\"] > 60) | (train['Delay_from_due_date'] < 0)].index\n",
    "train.drop(Delay_from_due_date_Outliers,inplace=True)"
   ]
  },
  {
   "cell_type": "code",
   "execution_count": 43,
   "id": "c9e042f3",
   "metadata": {},
   "outputs": [
    {
     "data": {
      "text/plain": [
       "<Axes: ylabel='Delay_from_due_date'>"
      ]
     },
     "execution_count": 43,
     "metadata": {},
     "output_type": "execute_result"
    },
    {
     "data": {
      "image/png": "[encoded data removed]",
      "text/plain": [
       "<Figure size 640x480 with 1 Axes>"
      ]
     },
     "metadata": {},
     "output_type": "display_data"
    }
   ],
   "source": [
    "sns.boxplot(y = train['Delay_from_due_date'],data=train)"
   ]
  },
  {
   "cell_type": "code",
   "execution_count": 44,
   "id": "83e06072",
   "metadata": {},
   "outputs": [
    {
     "data": {
      "text/plain": [
       "23.0"
      ]
     },
     "execution_count": 44,
     "metadata": {},
     "output_type": "execute_result"
    }
   ],
   "source": [
    "train[\"Num_of_Delayed_Payment\"].quantile(0.95)"
   ]
  },
  {
   "cell_type": "code",
   "execution_count": 45,
   "id": "787604b6",
   "metadata": {},
   "outputs": [],
   "source": [
    "# LARGE GAP BETWEEN VALUES BIGGER THAN 23 AND VALUES BIGGER THAN 30\n",
    "\n",
    "Num_of_Delayed_Payment_Outliers = train[(train[\"Num_of_Delayed_Payment\"] > 30) | (train['Num_of_Delayed_Payment'] < 0)].index\n",
    "train.drop(Num_of_Delayed_Payment_Outliers,inplace=True)"
   ]
  },
  {
   "cell_type": "code",
   "execution_count": 46,
   "id": "b7a25014",
   "metadata": {},
   "outputs": [
    {
     "data": {
      "text/plain": [
       "<Axes: ylabel='Num_of_Delayed_Payment'>"
      ]
     },
     "execution_count": 46,
     "metadata": {},
     "output_type": "execute_result"
    },
    {
     "data": {
      "image/png": "[encoded data removed]",
      "text/plain": [
       "<Figure size 640x480 with 1 Axes>"
      ]
     },
     "metadata": {},
     "output_type": "display_data"
    }
   ],
   "source": [
    "sns.boxplot(y = train['Num_of_Delayed_Payment'],data=train)"
   ]
  },
  {
   "cell_type": "code",
   "execution_count": 47,
   "id": "75e4b176",
   "metadata": {},
   "outputs": [
    {
     "data": {
      "text/plain": [
       "23.6"
      ]
     },
     "execution_count": 47,
     "metadata": {},
     "output_type": "execute_result"
    }
   ],
   "source": [
    "train[\"Changed_Credit_Limit\"].quantile(0.95)"
   ]
  },
  {
   "cell_type": "code",
   "execution_count": 48,
   "id": "a69a1263",
   "metadata": {},
   "outputs": [],
   "source": [
    "# I CHOOSED 26 FOR THE BIG GAP BETWEEN 30 AND 0.95 QUANTILE\n",
    "\n",
    "Changed_Credit_Limit_Outliers = train[(train[\"Changed_Credit_Limit\"] > 26) | (train['Changed_Credit_Limit'] < 0)].index\n",
    "train.drop(Changed_Credit_Limit_Outliers,inplace=True)"
   ]
  },
  {
   "cell_type": "code",
   "execution_count": 49,
   "id": "eb46a1ce",
   "metadata": {},
   "outputs": [
    {
     "data": {
      "text/plain": [
       "<Axes: ylabel='Changed_Credit_Limit'>"
      ]
     },
     "execution_count": 49,
     "metadata": {},
     "output_type": "execute_result"
    },
    {
     "data": {
      "image/png": "[encoded data removed]",
      "text/plain": [
       "<Figure size 640x480 with 1 Axes>"
      ]
     },
     "metadata": {},
     "output_type": "display_data"
    }
   ],
   "source": [
    "sns.boxplot(y = train['Changed_Credit_Limit'],data=train)"
   ]
  },
  {
   "cell_type": "code",
   "execution_count": 50,
   "id": "203b58a9",
   "metadata": {},
   "outputs": [
    {
     "data": {
      "text/plain": [
       "3844.13"
      ]
     },
     "execution_count": 50,
     "metadata": {},
     "output_type": "execute_result"
    }
   ],
   "source": [
    "train[\"Outstanding_Debt\"].quantile(0.95)"
   ]
  },
  {
   "cell_type": "code",
   "execution_count": 51,
   "id": "38183283",
   "metadata": {},
   "outputs": [],
   "source": [
    "# MY VISION VALUES LARGER THAN 3844 ARE NOT OUTLIERS BECAUSE OF IT'S MUCH MORE THAN 3000 VALUE\n",
    "\n",
    "Outstanding_Debt_Outliers = train[(train[\"Outstanding_Debt\"] > 4000) | (train['Outstanding_Debt'] < 0)].index\n",
    "train.drop(Outstanding_Debt_Outliers,inplace=True)"
   ]
  },
  {
   "cell_type": "code",
   "execution_count": 52,
   "id": "18aa9e66",
   "metadata": {},
   "outputs": [
    {
     "data": {
      "text/plain": [
       "<Axes: ylabel='Outstanding_Debt'>"
      ]
     },
     "execution_count": 52,
     "metadata": {},
     "output_type": "execute_result"
    },
    {
     "data": {
      "image/png": "[encoded data removed]",
      "text/plain": [
       "<Figure size 640x480 with 1 Axes>"
      ]
     },
     "metadata": {},
     "output_type": "display_data"
    }
   ],
   "source": [
    "sns.boxplot(y = train['Outstanding_Debt'],data=train)"
   ]
  },
  {
   "cell_type": "code",
   "execution_count": 53,
   "id": "f880df45",
   "metadata": {},
   "outputs": [
    {
     "data": {
      "text/plain": [
       "923.5760740444855"
      ]
     },
     "execution_count": 53,
     "metadata": {},
     "output_type": "execute_result"
    }
   ],
   "source": [
    "train[\"Amount_invested_monthly\"].quantile(0.95)"
   ]
  },
  {
   "cell_type": "code",
   "execution_count": 54,
   "id": "8e78edf1",
   "metadata": {},
   "outputs": [],
   "source": [
    "# THERE ARE MORE THAN 3200 VALUE BIGER THAN 924 THAT'S WHY I CHOOSED 950\n",
    "\n",
    "Amount_invested_monthly_Outliers = train[(train[\"Amount_invested_monthly\"] > 950) | (train['Amount_invested_monthly'] < 0)].index\n",
    "train.drop(Amount_invested_monthly_Outliers,inplace=True)"
   ]
  },
  {
   "cell_type": "code",
   "execution_count": 55,
   "id": "7c8cd083",
   "metadata": {},
   "outputs": [
    {
     "data": {
      "text/plain": [
       "<Axes: ylabel='Amount_invested_monthly'>"
      ]
     },
     "execution_count": 55,
     "metadata": {},
     "output_type": "execute_result"
    },
    {
     "data": {
      "image/png": "[encoded data removed]",
      "text/plain": [
       "<Figure size 640x480 with 1 Axes>"
      ]
     },
     "metadata": {},
     "output_type": "display_data"
    }
   ],
   "source": [
    "# I CONSIDER THESE VALUES ARE NOT OUTLIERS\n",
    "\n",
    "sns.boxplot(y = train['Amount_invested_monthly'],data=train)"
   ]
  },
  {
   "cell_type": "code",
   "execution_count": 56,
   "id": "8828e2d2",
   "metadata": {},
   "outputs": [
    {
     "data": {
      "text/plain": [
       "802.9972783681391"
      ]
     },
     "execution_count": 56,
     "metadata": {},
     "output_type": "execute_result"
    }
   ],
   "source": [
    "train[\"Monthly_Balance\"].quantile(0.95)"
   ]
  },
  {
   "cell_type": "code",
   "execution_count": 57,
   "id": "8b74b0aa",
   "metadata": {},
   "outputs": [],
   "source": [
    "# I SEE VALUES WHICH APPEARS IN THE BOXPLOT ARE NOT OUTLIERS \n",
    "\n",
    "Monthly_Balance_Outliers = train[(train[\"Monthly_Balance\"] > 810) | (train['Monthly_Balance'] < 0)].index\n",
    "train.drop(Monthly_Balance_Outliers,inplace=True)"
   ]
  },
  {
   "cell_type": "code",
   "execution_count": 58,
   "id": "831a1c1e",
   "metadata": {},
   "outputs": [
    {
     "data": {
      "text/plain": [
       "<Axes: ylabel='Monthly_Balance'>"
      ]
     },
     "execution_count": 58,
     "metadata": {},
     "output_type": "execute_result"
    },
    {
     "data": {
      "image/png": "[encoded data removed]",
      "text/plain": [
       "<Figure size 640x480 with 1 Axes>"
      ]
     },
     "metadata": {},
     "output_type": "display_data"
    }
   ],
   "source": [
    "sns.boxplot(y = train['Monthly_Balance'],data=train)"
   ]
  },
  {
   "cell_type": "code",
   "execution_count": 59,
   "id": "8333e364",
   "metadata": {},
   "outputs": [
    {
     "data": {
      "text/plain": [
       "399.50424185666805"
      ]
     },
     "execution_count": 59,
     "metadata": {},
     "output_type": "execute_result"
    }
   ],
   "source": [
    "train[\"Total_EMI_per_month\"].quantile(0.95)"
   ]
  },
  {
   "cell_type": "code",
   "execution_count": 60,
   "id": "5a49c081",
   "metadata": {},
   "outputs": [],
   "source": [
    "# THERE'S A LOT OF VALUES BIGGER THAN 400 SO I CONSIDERD IT NOT A OUTLIER\n",
    "\n",
    "Total_EMI_per_month_Outliers = train[(train[\"Total_EMI_per_month\"] > 450) | (train['Total_EMI_per_month'] < 0)].index\n",
    "train.drop(Total_EMI_per_month_Outliers,inplace=True)"
   ]
  },
  {
   "cell_type": "code",
   "execution_count": 61,
   "id": "a6c5adc0",
   "metadata": {},
   "outputs": [
    {
     "data": {
      "text/plain": [
       "<Axes: ylabel='Total_EMI_per_month'>"
      ]
     },
     "execution_count": 61,
     "metadata": {},
     "output_type": "execute_result"
    },
    {
     "data": {
      "image/png": "[encoded data removed]",
      "text/plain": [
       "<Figure size 640x480 with 1 Axes>"
      ]
     },
     "metadata": {},
     "output_type": "display_data"
    }
   ],
   "source": [
    "sns.boxplot(y = train['Total_EMI_per_month'],data=train)"
   ]
  },
  {
   "cell_type": "code",
   "execution_count": 62,
   "id": "aafd2f02",
   "metadata": {},
   "outputs": [
    {
     "data": {
      "text/plain": [
       "39.85607438756283"
      ]
     },
     "execution_count": 62,
     "metadata": {},
     "output_type": "execute_result"
    }
   ],
   "source": [
    "train[\"Credit_Utilization_Ratio\"].quantile(0.95)"
   ]
  },
  {
   "cell_type": "code",
   "execution_count": 63,
   "id": "6c74f404",
   "metadata": {},
   "outputs": [],
   "source": [
    "# I DIDN'T EXPAND FAR FROM THE 0.95 QUANTILE BECAUSE VALUES BIGGER THAN IT WAS A LITTLE\n",
    "\n",
    "Credit_Utilization_Ratio_Outliers = train[(train[\"Credit_Utilization_Ratio\"] > 42) | (train['Credit_Utilization_Ratio'] < 0)].index\n",
    "train.drop(Credit_Utilization_Ratio_Outliers,inplace=True)"
   ]
  },
  {
   "cell_type": "code",
   "execution_count": 64,
   "id": "89d4b64e",
   "metadata": {},
   "outputs": [
    {
     "data": {
      "text/plain": [
       "<Axes: ylabel='Credit_Utilization_Ratio'>"
      ]
     },
     "execution_count": 64,
     "metadata": {},
     "output_type": "execute_result"
    },
    {
     "data": {
      "image/png": "[encoded data removed]",
      "text/plain": [
       "<Figure size 640x480 with 1 Axes>"
      ]
     },
     "metadata": {},
     "output_type": "display_data"
    }
   ],
   "source": [
    "sns.boxplot(y = train['Credit_Utilization_Ratio'],data=train)"
   ]
  },
  {
   "cell_type": "code",
   "execution_count": 65,
   "id": "7fce3410",
   "metadata": {},
   "outputs": [],
   "source": [
    "# SPLITING THE DATA TO X AN y\n",
    "\n",
    "X = train.drop(\"Credit_Score\",axis=1).values\n",
    "y = train[\"Credit_Score\"].values"
   ]
  },
  {
   "cell_type": "code",
   "execution_count": 66,
   "id": "f7770555",
   "metadata": {},
   "outputs": [],
   "source": [
    "# USING SMOTE TO DEAL WITH THE IMBALANCED DATA IN y\n",
    "\n",
    "sm = SMOTE(random_state=42)\n",
    "X_res, y_res = sm.fit_resample(X, y)"
   ]
  },
  {
   "cell_type": "code",
   "execution_count": 67,
   "id": "e7b9e3c7",
   "metadata": {},
   "outputs": [
    {
     "name": "stdout",
     "output_type": "stream",
     "text": [
      "<class 'pandas.core.frame.DataFrame'>\n",
      "Index: 61647 entries, 0 to 99999\n",
      "Data columns (total 41 columns):\n",
      " #   Column                            Non-Null Count  Dtype  \n",
      "---  ------                            --------------  -----  \n",
      " 0   Age                               61647 non-null  int32  \n",
      " 1   Annual_Income                     61647 non-null  float64\n",
      " 2   Monthly_Inhand_Salary             61647 non-null  float64\n",
      " 3   Num_Bank_Accounts                 61647 non-null  int64  \n",
      " 4   Num_Credit_Card                   61647 non-null  int64  \n",
      " 5   Interest_Rate                     61647 non-null  int64  \n",
      " 6   Num_of_Loan                       61647 non-null  int32  \n",
      " 7   Delay_from_due_date               61647 non-null  int64  \n",
      " 8   Num_of_Delayed_Payment            61647 non-null  float64\n",
      " 9   Changed_Credit_Limit              61647 non-null  float64\n",
      " 10  Num_Credit_Inquiries              61647 non-null  float64\n",
      " 11  Credit_Mix                        61647 non-null  int32  \n",
      " 12  Outstanding_Debt                  61647 non-null  float64\n",
      " 13  Credit_Utilization_Ratio          61647 non-null  float64\n",
      " 14  Credit_History_Age                61647 non-null  int32  \n",
      " 15  Payment_of_Min_Amount             61647 non-null  int32  \n",
      " 16  Total_EMI_per_month               61647 non-null  float64\n",
      " 17  Amount_invested_monthly           61647 non-null  float64\n",
      " 18  Monthly_Balance                   61647 non-null  float64\n",
      " 19  Credit_Score                      61647 non-null  int32  \n",
      " 20  High_spent_Large_value_payments   61647 non-null  int64  \n",
      " 21  High_spent_Medium_value_payments  61647 non-null  int64  \n",
      " 22  High_spent_Small_value_payments   61647 non-null  int64  \n",
      " 23  Low_spent_Large_value_payments    61647 non-null  int64  \n",
      " 24  Low_spent_Medium_value_payments   61647 non-null  int64  \n",
      " 25  Low_spent_Small_value_payments    61647 non-null  int64  \n",
      " 26  Accountant                        61647 non-null  int64  \n",
      " 27  Architect                         61647 non-null  int64  \n",
      " 28  Developer                         61647 non-null  int64  \n",
      " 29  Doctor                            61647 non-null  int64  \n",
      " 30  Engineer                          61647 non-null  int64  \n",
      " 31  Entrepreneur                      61647 non-null  int64  \n",
      " 32  Journalist                        61647 non-null  int64  \n",
      " 33  Lawyer                            61647 non-null  int64  \n",
      " 34  Manager                           61647 non-null  int64  \n",
      " 35  Mechanic                          61647 non-null  int64  \n",
      " 36  Media_Manager                     61647 non-null  int64  \n",
      " 37  Musician                          61647 non-null  int64  \n",
      " 38  Scientist                         61647 non-null  int64  \n",
      " 39  Teacher                           61647 non-null  int64  \n",
      " 40  Writer                            61647 non-null  int64  \n",
      "dtypes: float64(10), int32(6), int64(25)\n",
      "memory usage: 18.3 MB\n"
     ]
    }
   ],
   "source": [
    "train.info()"
   ]
  },
  {
   "cell_type": "code",
   "execution_count": 68,
   "id": "44b86926",
   "metadata": {},
   "outputs": [
    {
     "data": {
      "text/html": [
       "<div>\n",
       "<style scoped>\n",
       "    .dataframe tbody tr th:only-of-type {\n",
       "        vertical-align: middle;\n",
       "    }\n",
       "\n",
       "    .dataframe tbody tr th {\n",
       "        vertical-align: top;\n",
       "    }\n",
       "\n",
       "    .dataframe thead th {\n",
       "        text-align: right;\n",
       "    }\n",
       "</style>\n",
       "<table border=\"1\" class=\"dataframe\">\n",
       "  <thead>\n",
       "    <tr style=\"text-align: right;\">\n",
       "      <th></th>\n",
       "      <th>Age</th>\n",
       "      <th>Annual_Income</th>\n",
       "      <th>Monthly_Inhand_Salary</th>\n",
       "      <th>Num_Bank_Accounts</th>\n",
       "      <th>Num_Credit_Card</th>\n",
       "      <th>Interest_Rate</th>\n",
       "      <th>Num_of_Loan</th>\n",
       "      <th>Delay_from_due_date</th>\n",
       "      <th>Num_of_Delayed_Payment</th>\n",
       "      <th>Changed_Credit_Limit</th>\n",
       "      <th>...</th>\n",
       "      <th>Entrepreneur</th>\n",
       "      <th>Journalist</th>\n",
       "      <th>Lawyer</th>\n",
       "      <th>Manager</th>\n",
       "      <th>Mechanic</th>\n",
       "      <th>Media_Manager</th>\n",
       "      <th>Musician</th>\n",
       "      <th>Scientist</th>\n",
       "      <th>Teacher</th>\n",
       "      <th>Writer</th>\n",
       "    </tr>\n",
       "  </thead>\n",
       "  <tbody>\n",
       "    <tr>\n",
       "      <th>count</th>\n",
       "      <td>61647.000000</td>\n",
       "      <td>61647.000000</td>\n",
       "      <td>61647.000000</td>\n",
       "      <td>61647.000000</td>\n",
       "      <td>61647.000000</td>\n",
       "      <td>61647.000000</td>\n",
       "      <td>61647.000000</td>\n",
       "      <td>61647.000000</td>\n",
       "      <td>61647.00000</td>\n",
       "      <td>61647.000000</td>\n",
       "      <td>...</td>\n",
       "      <td>61647.000000</td>\n",
       "      <td>61647.000000</td>\n",
       "      <td>61647.000000</td>\n",
       "      <td>61647.000000</td>\n",
       "      <td>61647.000000</td>\n",
       "      <td>61647.000000</td>\n",
       "      <td>61647.000000</td>\n",
       "      <td>61647.000000</td>\n",
       "      <td>61647.000000</td>\n",
       "      <td>61647.000000</td>\n",
       "    </tr>\n",
       "    <tr>\n",
       "      <th>mean</th>\n",
       "      <td>33.897221</td>\n",
       "      <td>43061.666155</td>\n",
       "      <td>3513.133859</td>\n",
       "      <td>5.321621</td>\n",
       "      <td>5.432835</td>\n",
       "      <td>14.156991</td>\n",
       "      <td>3.383149</td>\n",
       "      <td>20.020358</td>\n",
       "      <td>13.28050</td>\n",
       "      <td>9.904655</td>\n",
       "      <td>...</td>\n",
       "      <td>0.062550</td>\n",
       "      <td>0.062955</td>\n",
       "      <td>0.066767</td>\n",
       "      <td>0.058251</td>\n",
       "      <td>0.062485</td>\n",
       "      <td>0.061852</td>\n",
       "      <td>0.057797</td>\n",
       "      <td>0.063442</td>\n",
       "      <td>0.061593</td>\n",
       "      <td>0.059954</td>\n",
       "    </tr>\n",
       "    <tr>\n",
       "      <th>std</th>\n",
       "      <td>10.446540</td>\n",
       "      <td>29330.950773</td>\n",
       "      <td>2265.455760</td>\n",
       "      <td>2.507563</td>\n",
       "      <td>1.993874</td>\n",
       "      <td>8.429921</td>\n",
       "      <td>2.285065</td>\n",
       "      <td>13.491934</td>\n",
       "      <td>5.74642</td>\n",
       "      <td>5.663015</td>\n",
       "      <td>...</td>\n",
       "      <td>0.242153</td>\n",
       "      <td>0.242884</td>\n",
       "      <td>0.249620</td>\n",
       "      <td>0.234219</td>\n",
       "      <td>0.242036</td>\n",
       "      <td>0.240889</td>\n",
       "      <td>0.233361</td>\n",
       "      <td>0.243758</td>\n",
       "      <td>0.240416</td>\n",
       "      <td>0.237404</td>\n",
       "    </tr>\n",
       "    <tr>\n",
       "      <th>min</th>\n",
       "      <td>16.000000</td>\n",
       "      <td>7006.035000</td>\n",
       "      <td>303.645417</td>\n",
       "      <td>0.000000</td>\n",
       "      <td>0.000000</td>\n",
       "      <td>1.000000</td>\n",
       "      <td>0.000000</td>\n",
       "      <td>0.000000</td>\n",
       "      <td>0.00000</td>\n",
       "      <td>0.000000</td>\n",
       "      <td>...</td>\n",
       "      <td>0.000000</td>\n",
       "      <td>0.000000</td>\n",
       "      <td>0.000000</td>\n",
       "      <td>0.000000</td>\n",
       "      <td>0.000000</td>\n",
       "      <td>0.000000</td>\n",
       "      <td>0.000000</td>\n",
       "      <td>0.000000</td>\n",
       "      <td>0.000000</td>\n",
       "      <td>0.000000</td>\n",
       "    </tr>\n",
       "    <tr>\n",
       "      <th>25%</th>\n",
       "      <td>25.000000</td>\n",
       "      <td>18983.070000</td>\n",
       "      <td>1727.350000</td>\n",
       "      <td>3.000000</td>\n",
       "      <td>4.000000</td>\n",
       "      <td>7.000000</td>\n",
       "      <td>2.000000</td>\n",
       "      <td>10.000000</td>\n",
       "      <td>9.00000</td>\n",
       "      <td>5.590000</td>\n",
       "      <td>...</td>\n",
       "      <td>0.000000</td>\n",
       "      <td>0.000000</td>\n",
       "      <td>0.000000</td>\n",
       "      <td>0.000000</td>\n",
       "      <td>0.000000</td>\n",
       "      <td>0.000000</td>\n",
       "      <td>0.000000</td>\n",
       "      <td>0.000000</td>\n",
       "      <td>0.000000</td>\n",
       "      <td>0.000000</td>\n",
       "    </tr>\n",
       "    <tr>\n",
       "      <th>50%</th>\n",
       "      <td>34.000000</td>\n",
       "      <td>34378.870000</td>\n",
       "      <td>3093.745000</td>\n",
       "      <td>5.000000</td>\n",
       "      <td>5.000000</td>\n",
       "      <td>13.000000</td>\n",
       "      <td>3.000000</td>\n",
       "      <td>17.000000</td>\n",
       "      <td>14.00000</td>\n",
       "      <td>9.400000</td>\n",
       "      <td>...</td>\n",
       "      <td>0.000000</td>\n",
       "      <td>0.000000</td>\n",
       "      <td>0.000000</td>\n",
       "      <td>0.000000</td>\n",
       "      <td>0.000000</td>\n",
       "      <td>0.000000</td>\n",
       "      <td>0.000000</td>\n",
       "      <td>0.000000</td>\n",
       "      <td>0.000000</td>\n",
       "      <td>0.000000</td>\n",
       "    </tr>\n",
       "    <tr>\n",
       "      <th>75%</th>\n",
       "      <td>42.000000</td>\n",
       "      <td>61884.420000</td>\n",
       "      <td>4734.566667</td>\n",
       "      <td>7.000000</td>\n",
       "      <td>7.000000</td>\n",
       "      <td>19.000000</td>\n",
       "      <td>5.000000</td>\n",
       "      <td>27.000000</td>\n",
       "      <td>17.00000</td>\n",
       "      <td>13.735000</td>\n",
       "      <td>...</td>\n",
       "      <td>0.000000</td>\n",
       "      <td>0.000000</td>\n",
       "      <td>0.000000</td>\n",
       "      <td>0.000000</td>\n",
       "      <td>0.000000</td>\n",
       "      <td>0.000000</td>\n",
       "      <td>0.000000</td>\n",
       "      <td>0.000000</td>\n",
       "      <td>0.000000</td>\n",
       "      <td>0.000000</td>\n",
       "    </tr>\n",
       "    <tr>\n",
       "      <th>max</th>\n",
       "      <td>56.000000</td>\n",
       "      <td>134951.250000</td>\n",
       "      <td>11429.170000</td>\n",
       "      <td>11.000000</td>\n",
       "      <td>11.000000</td>\n",
       "      <td>34.000000</td>\n",
       "      <td>9.000000</td>\n",
       "      <td>60.000000</td>\n",
       "      <td>28.00000</td>\n",
       "      <td>26.000000</td>\n",
       "      <td>...</td>\n",
       "      <td>1.000000</td>\n",
       "      <td>1.000000</td>\n",
       "      <td>1.000000</td>\n",
       "      <td>1.000000</td>\n",
       "      <td>1.000000</td>\n",
       "      <td>1.000000</td>\n",
       "      <td>1.000000</td>\n",
       "      <td>1.000000</td>\n",
       "      <td>1.000000</td>\n",
       "      <td>1.000000</td>\n",
       "    </tr>\n",
       "  </tbody>\n",
       "</table>\n",
       "<p>8 rows × 41 columns</p>\n",
       "</div>"
      ],
      "text/plain": [
       "                Age  Annual_Income  Monthly_Inhand_Salary  Num_Bank_Accounts  \\\n",
       "count  61647.000000   61647.000000           61647.000000       61647.000000   \n",
       "mean      33.897221   43061.666155            3513.133859           5.321621   \n",
       "std       10.446540   29330.950773            2265.455760           2.507563   \n",
       "min       16.000000    7006.035000             303.645417           0.000000   \n",
       "25%       25.000000   18983.070000            1727.350000           3.000000   \n",
       "50%       34.000000   34378.870000            3093.745000           5.000000   \n",
       "75%       42.000000   61884.420000            4734.566667           7.000000   \n",
       "max       56.000000  134951.250000           11429.170000          11.000000   \n",
       "\n",
       "       Num_Credit_Card  Interest_Rate   Num_of_Loan  Delay_from_due_date  \\\n",
       "count     61647.000000   61647.000000  61647.000000         61647.000000   \n",
       "mean          5.432835      14.156991      3.383149            20.020358   \n",
       "std           1.993874       8.429921      2.285065            13.491934   \n",
       "min           0.000000       1.000000      0.000000             0.000000   \n",
       "25%           4.000000       7.000000      2.000000            10.000000   \n",
       "50%           5.000000      13.000000      3.000000            17.000000   \n",
       "75%           7.000000      19.000000      5.000000            27.000000   \n",
       "max          11.000000      34.000000      9.000000            60.000000   \n",
       "\n",
       "       Num_of_Delayed_Payment  Changed_Credit_Limit  ...  Entrepreneur  \\\n",
       "count             61647.00000          61647.000000  ...  61647.000000   \n",
       "mean                 13.28050              9.904655  ...      0.062550   \n",
       "std                   5.74642              5.663015  ...      0.242153   \n",
       "min                   0.00000              0.000000  ...      0.000000   \n",
       "25%                   9.00000              5.590000  ...      0.000000   \n",
       "50%                  14.00000              9.400000  ...      0.000000   \n",
       "75%                  17.00000             13.735000  ...      0.000000   \n",
       "max                  28.00000             26.000000  ...      1.000000   \n",
       "\n",
       "         Journalist        Lawyer       Manager      Mechanic  Media_Manager  \\\n",
       "count  61647.000000  61647.000000  61647.000000  61647.000000   61647.000000   \n",
       "mean       0.062955      0.066767      0.058251      0.062485       0.061852   \n",
       "std        0.242884      0.249620      0.234219      0.242036       0.240889   \n",
       "min        0.000000      0.000000      0.000000      0.000000       0.000000   \n",
       "25%        0.000000      0.000000      0.000000      0.000000       0.000000   \n",
       "50%        0.000000      0.000000      0.000000      0.000000       0.000000   \n",
       "75%        0.000000      0.000000      0.000000      0.000000       0.000000   \n",
       "max        1.000000      1.000000      1.000000      1.000000       1.000000   \n",
       "\n",
       "           Musician     Scientist       Teacher        Writer  \n",
       "count  61647.000000  61647.000000  61647.000000  61647.000000  \n",
       "mean       0.057797      0.063442      0.061593      0.059954  \n",
       "std        0.233361      0.243758      0.240416      0.237404  \n",
       "min        0.000000      0.000000      0.000000      0.000000  \n",
       "25%        0.000000      0.000000      0.000000      0.000000  \n",
       "50%        0.000000      0.000000      0.000000      0.000000  \n",
       "75%        0.000000      0.000000      0.000000      0.000000  \n",
       "max        1.000000      1.000000      1.000000      1.000000  \n",
       "\n",
       "[8 rows x 41 columns]"
      ]
     },
     "execution_count": 68,
     "metadata": {},
     "output_type": "execute_result"
    }
   ],
   "source": [
    "train.describe()"
   ]
  },
  {
   "cell_type": "markdown",
   "id": "a277affa",
   "metadata": {},
   "source": [
    "## Modeling Using XGboost"
   ]
  },
  {
   "cell_type": "code",
   "execution_count": 69,
   "id": "e2e7f0fe",
   "metadata": {},
   "outputs": [],
   "source": [
    "# SPLIT THE DATA TO TRAINNING AND VALIDATION\n",
    "\n",
    "X_train, X_valid, y_train, y_valid = train_test_split(X_res, y_res, test_size=0.3, random_state=42)"
   ]
  },
  {
   "cell_type": "code",
   "execution_count": 70,
   "id": "b1821515",
   "metadata": {},
   "outputs": [],
   "source": [
    "# USING GridSearch\n",
    "\n",
    "# LITTLE OVERFITTING BUT LOWER ACCURACY,PRECISON,F1 SCORE\n",
    "# 91 TRAIN ----- 86 TEST\n",
    "# gamma=2,max_depth=7,reg_lambda=0.001"
   ]
  },
  {
   "cell_type": "code",
   "execution_count": 71,
   "id": "a6b4462c",
   "metadata": {},
   "outputs": [],
   "source": [
    "XGBC_ValidationClassifier = XGBClassifier(gamma= 0.1,max_depth = 10,reg_lambda= 0.001)"
   ]
  },
  {
   "cell_type": "code",
   "execution_count": 72,
   "id": "f5cb9551",
   "metadata": {},
   "outputs": [
    {
     "data": {
      "text/html": [
       "<style>#sk-container-id-1 {color: black;}#sk-container-id-1 pre{padding: 0;}#sk-container-id-1 div.sk-toggleable {background-color: white;}#sk-container-id-1 label.sk-toggleable__label {cursor: pointer;display: block;width: 100%;margin-bottom: 0;padding: 0.3em;box-sizing: border-box;text-align: center;}#sk-container-id-1 label.sk-toggleable__label-arrow:before {content: \"▸\";float: left;margin-right: 0.25em;color: #696969;}#sk-container-id-1 label.sk-toggleable__label-arrow:hover:before {color: black;}#sk-container-id-1 div.sk-estimator:hover label.sk-toggleable__label-arrow:before {color: black;}#sk-container-id-1 div.sk-toggleable__content {max-height: 0;max-width: 0;overflow: hidden;text-align: left;background-color: #f0f8ff;}#sk-container-id-1 div.sk-toggleable__content pre {margin: 0.2em;color: black;border-radius: 0.25em;background-color: #f0f8ff;}#sk-container-id-1 input.sk-toggleable__control:checked~div.sk-toggleable__content {max-height: 200px;max-width: 100%;overflow: auto;}#sk-container-id-1 input.sk-toggleable__control:checked~label.sk-toggleable__label-arrow:before {content: \"▾\";}#sk-container-id-1 div.sk-estimator input.sk-toggleable__control:checked~label.sk-toggleable__label {background-color: #d4ebff;}#sk-container-id-1 div.sk-label input.sk-toggleable__control:checked~label.sk-toggleable__label {background-color: #d4ebff;}#sk-container-id-1 input.sk-hidden--visually {border: 0;clip: rect(1px 1px 1px 1px);clip: rect(1px, 1px, 1px, 1px);height: 1px;margin: -1px;overflow: hidden;padding: 0;position: absolute;width: 1px;}#sk-container-id-1 div.sk-estimator {font-family: monospace;background-color: #f0f8ff;border: 1px dotted black;border-radius: 0.25em;box-sizing: border-box;margin-bottom: 0.5em;}#sk-container-id-1 div.sk-estimator:hover {background-color: #d4ebff;}#sk-container-id-1 div.sk-parallel-item::after {content: \"\";width: 100%;border-bottom: 1px solid gray;flex-grow: 1;}#sk-container-id-1 div.sk-label:hover label.sk-toggleable__label {background-color: #d4ebff;}#sk-container-id-1 div.sk-serial::before {content: \"\";position: absolute;border-left: 1px solid gray;box-sizing: border-box;top: 0;bottom: 0;left: 50%;z-index: 0;}#sk-container-id-1 div.sk-serial {display: flex;flex-direction: column;align-items: center;background-color: white;padding-right: 0.2em;padding-left: 0.2em;position: relative;}#sk-container-id-1 div.sk-item {position: relative;z-index: 1;}#sk-container-id-1 div.sk-parallel {display: flex;align-items: stretch;justify-content: center;background-color: white;position: relative;}#sk-container-id-1 div.sk-item::before, #sk-container-id-1 div.sk-parallel-item::before {content: \"\";position: absolute;border-left: 1px solid gray;box-sizing: border-box;top: 0;bottom: 0;left: 50%;z-index: -1;}#sk-container-id-1 div.sk-parallel-item {display: flex;flex-direction: column;z-index: 1;position: relative;background-color: white;}#sk-container-id-1 div.sk-parallel-item:first-child::after {align-self: flex-end;width: 50%;}#sk-container-id-1 div.sk-parallel-item:last-child::after {align-self: flex-start;width: 50%;}#sk-container-id-1 div.sk-parallel-item:only-child::after {width: 0;}#sk-container-id-1 div.sk-dashed-wrapped {border: 1px dashed gray;margin: 0 0.4em 0.5em 0.4em;box-sizing: border-box;padding-bottom: 0.4em;background-color: white;}#sk-container-id-1 div.sk-label label {font-family: monospace;font-weight: bold;display: inline-block;line-height: 1.2em;}#sk-container-id-1 div.sk-label-container {text-align: center;}#sk-container-id-1 div.sk-container {/* jupyter's `normalize.less` sets `[hidden] { display: none; }` but bootstrap.min.css set `[hidden] { display: none !important; }` so we also need the `!important` here to be able to override the default hidden behavior on the sphinx rendered scikit-learn.org. See: https://github.com/scikit-learn/scikit-learn/issues/21755 */display: inline-block !important;position: relative;}#sk-container-id-1 div.sk-text-repr-fallback {display: none;}</style><div id=\"sk-container-id-1\" class=\"sk-top-container\"><div class=\"sk-text-repr-fallback\"><pre>XGBClassifier(base_score=None, booster=None, callbacks=None,\n",
       "              colsample_bylevel=None, colsample_bynode=None,\n",
       "              colsample_bytree=None, early_stopping_rounds=None,\n",
       "              enable_categorical=False, eval_metric=None, feature_types=None,\n",
       "              gamma=0.1, gpu_id=None, grow_policy=None, importance_type=None,\n",
       "              interaction_constraints=None, learning_rate=None, max_bin=None,\n",
       "              max_cat_threshold=None, max_cat_to_onehot=None,\n",
       "              max_delta_step=None, max_depth=10, max_leaves=None,\n",
       "              min_child_weight=None, missing=nan, monotone_constraints=None,\n",
       "              n_estimators=100, n_jobs=None, num_parallel_tree=None,\n",
       "              objective=&#x27;multi:softprob&#x27;, predictor=None, ...)</pre><b>In a Jupyter environment, please rerun this cell to show the HTML representation or trust the notebook. <br />On GitHub, the HTML representation is unable to render, please try loading this page with nbviewer.org.</b></div><div class=\"sk-container\" hidden><div class=\"sk-item\"><div class=\"sk-estimator sk-toggleable\"><input class=\"sk-toggleable__control sk-hidden--visually\" id=\"sk-estimator-id-1\" type=\"checkbox\" checked><label for=\"sk-estimator-id-1\" class=\"sk-toggleable__label sk-toggleable__label-arrow\">XGBClassifier</label><div class=\"sk-toggleable__content\"><pre>XGBClassifier(base_score=None, booster=None, callbacks=None,\n",
       "              colsample_bylevel=None, colsample_bynode=None,\n",
       "              colsample_bytree=None, early_stopping_rounds=None,\n",
       "              enable_categorical=False, eval_metric=None, feature_types=None,\n",
       "              gamma=0.1, gpu_id=None, grow_policy=None, importance_type=None,\n",
       "              interaction_constraints=None, learning_rate=None, max_bin=None,\n",
       "              max_cat_threshold=None, max_cat_to_onehot=None,\n",
       "              max_delta_step=None, max_depth=10, max_leaves=None,\n",
       "              min_child_weight=None, missing=nan, monotone_constraints=None,\n",
       "              n_estimators=100, n_jobs=None, num_parallel_tree=None,\n",
       "              objective=&#x27;multi:softprob&#x27;, predictor=None, ...)</pre></div></div></div></div></div>"
      ],
      "text/plain": [
       "XGBClassifier(base_score=None, booster=None, callbacks=None,\n",
       "              colsample_bylevel=None, colsample_bynode=None,\n",
       "              colsample_bytree=None, early_stopping_rounds=None,\n",
       "              enable_categorical=False, eval_metric=None, feature_types=None,\n",
       "              gamma=0.1, gpu_id=None, grow_policy=None, importance_type=None,\n",
       "              interaction_constraints=None, learning_rate=None, max_bin=None,\n",
       "              max_cat_threshold=None, max_cat_to_onehot=None,\n",
       "              max_delta_step=None, max_depth=10, max_leaves=None,\n",
       "              min_child_weight=None, missing=nan, monotone_constraints=None,\n",
       "              n_estimators=100, n_jobs=None, num_parallel_tree=None,\n",
       "              objective='multi:softprob', predictor=None, ...)"
      ]
     },
     "execution_count": 72,
     "metadata": {},
     "output_type": "execute_result"
    }
   ],
   "source": [
    "XGBC_ValidationClassifier.fit(X_train,y_train)"
   ]
  },
  {
   "cell_type": "code",
   "execution_count": 73,
   "id": "b5b06c67",
   "metadata": {},
   "outputs": [
    {
     "data": {
      "text/plain": [
       "array([0, 1, 1, ..., 2, 0, 0], dtype=int64)"
      ]
     },
     "execution_count": 73,
     "metadata": {},
     "output_type": "execute_result"
    }
   ],
   "source": [
    "y_pred = XGBC_ValidationClassifier.predict(X_valid)\n",
    "y_pred"
   ]
  },
  {
   "cell_type": "code",
   "execution_count": 74,
   "id": "0d68f4b4",
   "metadata": {},
   "outputs": [
    {
     "data": {
      "text/plain": [
       "0.995389475481686"
      ]
     },
     "execution_count": 74,
     "metadata": {},
     "output_type": "execute_result"
    }
   ],
   "source": [
    "XGBC_ValidationClassifier.score(X_train,y_train)"
   ]
  },
  {
   "cell_type": "code",
   "execution_count": 75,
   "id": "3e4a931b",
   "metadata": {},
   "outputs": [
    {
     "data": {
      "text/plain": [
       "0.8678199083604489"
      ]
     },
     "execution_count": 75,
     "metadata": {},
     "output_type": "execute_result"
    }
   ],
   "source": [
    "# OVERFITTING\n",
    "\n",
    "XGBC_ValidationClassifier.score(X_valid,y_valid)"
   ]
  },
  {
   "cell_type": "markdown",
   "id": "1815a550",
   "metadata": {},
   "source": [
    "### XGboost Evaluation"
   ]
  },
  {
   "cell_type": "code",
   "execution_count": 76,
   "id": "c5073500",
   "metadata": {},
   "outputs": [
    {
     "data": {
      "text/plain": [
       "array([[9308,  329,  717],\n",
       "       [  66, 8736, 1186],\n",
       "       [ 729,  954, 8093]], dtype=int64)"
      ]
     },
     "execution_count": 76,
     "metadata": {},
     "output_type": "execute_result"
    }
   ],
   "source": [
    "cm = confusion_matrix(y_pred,y_valid)\n",
    "cm"
   ]
  },
  {
   "cell_type": "code",
   "execution_count": 77,
   "id": "2042a611",
   "metadata": {},
   "outputs": [
    {
     "name": "stdout",
     "output_type": "stream",
     "text": [
      "              precision    recall  f1-score   support\n",
      "\n",
      "           0       0.92      0.90      0.91     10354\n",
      "           1       0.87      0.87      0.87      9988\n",
      "           2       0.81      0.83      0.82      9776\n",
      "\n",
      "    accuracy                           0.87     30118\n",
      "   macro avg       0.87      0.87      0.87     30118\n",
      "weighted avg       0.87      0.87      0.87     30118\n",
      "\n"
     ]
    }
   ],
   "source": [
    "print(classification_report(y_pred,y_valid))"
   ]
  },
  {
   "cell_type": "code",
   "execution_count": 316,
   "id": "28374e99",
   "metadata": {},
   "outputs": [
    {
     "data": {
      "text/plain": [
       "0.18019124775881531"
      ]
     },
     "execution_count": 316,
     "metadata": {},
     "output_type": "execute_result"
    }
   ],
   "source": [
    "MAE = mean_absolute_error(y_valid,y_pred)\n",
    "MAE"
   ]
  },
  {
   "cell_type": "code",
   "execution_count": 318,
   "id": "51716fe1",
   "metadata": {},
   "outputs": [
    {
     "data": {
      "text/plain": [
       "0.525560234414043"
      ]
     },
     "execution_count": 318,
     "metadata": {},
     "output_type": "execute_result"
    }
   ],
   "source": [
    "RMSE = np.sqrt(mean_squared_error(y_pred,y_valid))\n",
    "RMSE"
   ]
  },
  {
   "cell_type": "code",
   "execution_count": 312,
   "id": "27f4eddd",
   "metadata": {},
   "outputs": [],
   "source": [
    "mae_scorer = make_scorer(mean_absolute_error)"
   ]
  },
  {
   "cell_type": "code",
   "execution_count": 314,
   "id": "410c2066",
   "metadata": {},
   "outputs": [
    {
     "data": {
      "text/plain": [
       "array([0.41816707, 0.41557178, 0.40989457, 0.38540146, 0.40957015,\n",
       "       0.41427413, 0.39983779, 0.41920831, 0.40850097, 0.39974043])"
      ]
     },
     "execution_count": 314,
     "metadata": {},
     "output_type": "execute_result"
    }
   ],
   "source": [
    "cv_errors = cross_val_score(XGBClassifier(),X,y,scoring=mae_scorer,cv=10)\n",
    "cv_errors"
   ]
  },
  {
   "cell_type": "markdown",
   "id": "9a5bb434",
   "metadata": {},
   "source": [
    "## Modeling Using RandomForest Classifier"
   ]
  },
  {
   "cell_type": "code",
   "execution_count": 299,
   "id": "13f798e2",
   "metadata": {},
   "outputs": [],
   "source": [
    "# 93 TRAIN ----- 83 TEST\n",
    "# max_depth=22,min_samples_split=7"
   ]
  },
  {
   "cell_type": "code",
   "execution_count": 300,
   "id": "12f6d71f",
   "metadata": {},
   "outputs": [],
   "source": [
    "RFC = RandomForestClassifier()"
   ]
  },
  {
   "cell_type": "code",
   "execution_count": 301,
   "id": "5dcba82a",
   "metadata": {},
   "outputs": [
    {
     "data": {
      "text/html": [
       "<style>#sk-container-id-3 {color: black;}#sk-container-id-3 pre{padding: 0;}#sk-container-id-3 div.sk-toggleable {background-color: white;}#sk-container-id-3 label.sk-toggleable__label {cursor: pointer;display: block;width: 100%;margin-bottom: 0;padding: 0.3em;box-sizing: border-box;text-align: center;}#sk-container-id-3 label.sk-toggleable__label-arrow:before {content: \"▸\";float: left;margin-right: 0.25em;color: #696969;}#sk-container-id-3 label.sk-toggleable__label-arrow:hover:before {color: black;}#sk-container-id-3 div.sk-estimator:hover label.sk-toggleable__label-arrow:before {color: black;}#sk-container-id-3 div.sk-toggleable__content {max-height: 0;max-width: 0;overflow: hidden;text-align: left;background-color: #f0f8ff;}#sk-container-id-3 div.sk-toggleable__content pre {margin: 0.2em;color: black;border-radius: 0.25em;background-color: #f0f8ff;}#sk-container-id-3 input.sk-toggleable__control:checked~div.sk-toggleable__content {max-height: 200px;max-width: 100%;overflow: auto;}#sk-container-id-3 input.sk-toggleable__control:checked~label.sk-toggleable__label-arrow:before {content: \"▾\";}#sk-container-id-3 div.sk-estimator input.sk-toggleable__control:checked~label.sk-toggleable__label {background-color: #d4ebff;}#sk-container-id-3 div.sk-label input.sk-toggleable__control:checked~label.sk-toggleable__label {background-color: #d4ebff;}#sk-container-id-3 input.sk-hidden--visually {border: 0;clip: rect(1px 1px 1px 1px);clip: rect(1px, 1px, 1px, 1px);height: 1px;margin: -1px;overflow: hidden;padding: 0;position: absolute;width: 1px;}#sk-container-id-3 div.sk-estimator {font-family: monospace;background-color: #f0f8ff;border: 1px dotted black;border-radius: 0.25em;box-sizing: border-box;margin-bottom: 0.5em;}#sk-container-id-3 div.sk-estimator:hover {background-color: #d4ebff;}#sk-container-id-3 div.sk-parallel-item::after {content: \"\";width: 100%;border-bottom: 1px solid gray;flex-grow: 1;}#sk-container-id-3 div.sk-label:hover label.sk-toggleable__label {background-color: #d4ebff;}#sk-container-id-3 div.sk-serial::before {content: \"\";position: absolute;border-left: 1px solid gray;box-sizing: border-box;top: 0;bottom: 0;left: 50%;z-index: 0;}#sk-container-id-3 div.sk-serial {display: flex;flex-direction: column;align-items: center;background-color: white;padding-right: 0.2em;padding-left: 0.2em;position: relative;}#sk-container-id-3 div.sk-item {position: relative;z-index: 1;}#sk-container-id-3 div.sk-parallel {display: flex;align-items: stretch;justify-content: center;background-color: white;position: relative;}#sk-container-id-3 div.sk-item::before, #sk-container-id-3 div.sk-parallel-item::before {content: \"\";position: absolute;border-left: 1px solid gray;box-sizing: border-box;top: 0;bottom: 0;left: 50%;z-index: -1;}#sk-container-id-3 div.sk-parallel-item {display: flex;flex-direction: column;z-index: 1;position: relative;background-color: white;}#sk-container-id-3 div.sk-parallel-item:first-child::after {align-self: flex-end;width: 50%;}#sk-container-id-3 div.sk-parallel-item:last-child::after {align-self: flex-start;width: 50%;}#sk-container-id-3 div.sk-parallel-item:only-child::after {width: 0;}#sk-container-id-3 div.sk-dashed-wrapped {border: 1px dashed gray;margin: 0 0.4em 0.5em 0.4em;box-sizing: border-box;padding-bottom: 0.4em;background-color: white;}#sk-container-id-3 div.sk-label label {font-family: monospace;font-weight: bold;display: inline-block;line-height: 1.2em;}#sk-container-id-3 div.sk-label-container {text-align: center;}#sk-container-id-3 div.sk-container {/* jupyter's `normalize.less` sets `[hidden] { display: none; }` but bootstrap.min.css set `[hidden] { display: none !important; }` so we also need the `!important` here to be able to override the default hidden behavior on the sphinx rendered scikit-learn.org. See: https://github.com/scikit-learn/scikit-learn/issues/21755 */display: inline-block !important;position: relative;}#sk-container-id-3 div.sk-text-repr-fallback {display: none;}</style><div id=\"sk-container-id-3\" class=\"sk-top-container\"><div class=\"sk-text-repr-fallback\"><pre>RandomForestClassifier()</pre><b>In a Jupyter environment, please rerun this cell to show the HTML representation or trust the notebook. <br />On GitHub, the HTML representation is unable to render, please try loading this page with nbviewer.org.</b></div><div class=\"sk-container\" hidden><div class=\"sk-item\"><div class=\"sk-estimator sk-toggleable\"><input class=\"sk-toggleable__control sk-hidden--visually\" id=\"sk-estimator-id-3\" type=\"checkbox\" checked><label for=\"sk-estimator-id-3\" class=\"sk-toggleable__label sk-toggleable__label-arrow\">RandomForestClassifier</label><div class=\"sk-toggleable__content\"><pre>RandomForestClassifier()</pre></div></div></div></div></div>"
      ],
      "text/plain": [
       "RandomForestClassifier()"
      ]
     },
     "execution_count": 301,
     "metadata": {},
     "output_type": "execute_result"
    }
   ],
   "source": [
    "RFC.fit(X_train,y_train)"
   ]
  },
  {
   "cell_type": "code",
   "execution_count": 302,
   "id": "51950b48",
   "metadata": {},
   "outputs": [],
   "source": [
    "y_pred2 = RFC.predict(X_valid)"
   ]
  },
  {
   "cell_type": "code",
   "execution_count": 303,
   "id": "526b592b",
   "metadata": {},
   "outputs": [
    {
     "data": {
      "text/plain": [
       "1.0"
      ]
     },
     "execution_count": 303,
     "metadata": {},
     "output_type": "execute_result"
    }
   ],
   "source": [
    "RFC.score(X_train,y_train)"
   ]
  },
  {
   "cell_type": "code",
   "execution_count": 304,
   "id": "4f762f85",
   "metadata": {},
   "outputs": [
    {
     "data": {
      "text/plain": [
       "0.8487283352148217"
      ]
     },
     "execution_count": 304,
     "metadata": {},
     "output_type": "execute_result"
    }
   ],
   "source": [
    "# OVERFITTING\n",
    "\n",
    "RFC.score(X_valid,y_valid)"
   ]
  },
  {
   "cell_type": "markdown",
   "id": "d9f5e286",
   "metadata": {},
   "source": [
    "### RandomForest Evaluation"
   ]
  },
  {
   "cell_type": "code",
   "execution_count": 305,
   "id": "e429b64c",
   "metadata": {},
   "outputs": [
    {
     "data": {
      "text/plain": [
       "array([[9393,  718, 1081],\n",
       "       [  74, 8541, 1287],\n",
       "       [ 636,  760, 7628]], dtype=int64)"
      ]
     },
     "execution_count": 305,
     "metadata": {},
     "output_type": "execute_result"
    }
   ],
   "source": [
    "cm2 = confusion_matrix(y_pred2,y_valid)\n",
    "cm2"
   ]
  },
  {
   "cell_type": "code",
   "execution_count": 306,
   "id": "cbb698d4",
   "metadata": {},
   "outputs": [
    {
     "name": "stdout",
     "output_type": "stream",
     "text": [
      "              precision    recall  f1-score   support\n",
      "\n",
      "           0       0.93      0.84      0.88     11192\n",
      "           1       0.85      0.86      0.86      9902\n",
      "           2       0.76      0.85      0.80      9024\n",
      "\n",
      "    accuracy                           0.85     30118\n",
      "   macro avg       0.85      0.85      0.85     30118\n",
      "weighted avg       0.85      0.85      0.85     30118\n",
      "\n"
     ]
    }
   ],
   "source": [
    "# XGBOOST CLASSIFIER HAVE HIGHER F1 SCORE AND LOWER OVERFITTING\n",
    "\n",
    "print(classification_report(y_pred2,y_valid))"
   ]
  },
  {
   "cell_type": "markdown",
   "id": "1475084b",
   "metadata": {},
   "source": [
    "## Modeling Using K-NN"
   ]
  },
  {
   "cell_type": "code",
   "execution_count": 290,
   "id": "96dc62f7",
   "metadata": {},
   "outputs": [],
   "source": [
    "KNN_Classifier = KNeighborsClassifier(n_neighbors=2, algorithm = \"ball_tree\")"
   ]
  },
  {
   "cell_type": "code",
   "execution_count": 291,
   "id": "c625bce3",
   "metadata": {},
   "outputs": [
    {
     "data": {
      "text/html": [
       "<style>#sk-container-id-2 {color: black;}#sk-container-id-2 pre{padding: 0;}#sk-container-id-2 div.sk-toggleable {background-color: white;}#sk-container-id-2 label.sk-toggleable__label {cursor: pointer;display: block;width: 100%;margin-bottom: 0;padding: 0.3em;box-sizing: border-box;text-align: center;}#sk-container-id-2 label.sk-toggleable__label-arrow:before {content: \"▸\";float: left;margin-right: 0.25em;color: #696969;}#sk-container-id-2 label.sk-toggleable__label-arrow:hover:before {color: black;}#sk-container-id-2 div.sk-estimator:hover label.sk-toggleable__label-arrow:before {color: black;}#sk-container-id-2 div.sk-toggleable__content {max-height: 0;max-width: 0;overflow: hidden;text-align: left;background-color: #f0f8ff;}#sk-container-id-2 div.sk-toggleable__content pre {margin: 0.2em;color: black;border-radius: 0.25em;background-color: #f0f8ff;}#sk-container-id-2 input.sk-toggleable__control:checked~div.sk-toggleable__content {max-height: 200px;max-width: 100%;overflow: auto;}#sk-container-id-2 input.sk-toggleable__control:checked~label.sk-toggleable__label-arrow:before {content: \"▾\";}#sk-container-id-2 div.sk-estimator input.sk-toggleable__control:checked~label.sk-toggleable__label {background-color: #d4ebff;}#sk-container-id-2 div.sk-label input.sk-toggleable__control:checked~label.sk-toggleable__label {background-color: #d4ebff;}#sk-container-id-2 input.sk-hidden--visually {border: 0;clip: rect(1px 1px 1px 1px);clip: rect(1px, 1px, 1px, 1px);height: 1px;margin: -1px;overflow: hidden;padding: 0;position: absolute;width: 1px;}#sk-container-id-2 div.sk-estimator {font-family: monospace;background-color: #f0f8ff;border: 1px dotted black;border-radius: 0.25em;box-sizing: border-box;margin-bottom: 0.5em;}#sk-container-id-2 div.sk-estimator:hover {background-color: #d4ebff;}#sk-container-id-2 div.sk-parallel-item::after {content: \"\";width: 100%;border-bottom: 1px solid gray;flex-grow: 1;}#sk-container-id-2 div.sk-label:hover label.sk-toggleable__label {background-color: #d4ebff;}#sk-container-id-2 div.sk-serial::before {content: \"\";position: absolute;border-left: 1px solid gray;box-sizing: border-box;top: 0;bottom: 0;left: 50%;z-index: 0;}#sk-container-id-2 div.sk-serial {display: flex;flex-direction: column;align-items: center;background-color: white;padding-right: 0.2em;padding-left: 0.2em;position: relative;}#sk-container-id-2 div.sk-item {position: relative;z-index: 1;}#sk-container-id-2 div.sk-parallel {display: flex;align-items: stretch;justify-content: center;background-color: white;position: relative;}#sk-container-id-2 div.sk-item::before, #sk-container-id-2 div.sk-parallel-item::before {content: \"\";position: absolute;border-left: 1px solid gray;box-sizing: border-box;top: 0;bottom: 0;left: 50%;z-index: -1;}#sk-container-id-2 div.sk-parallel-item {display: flex;flex-direction: column;z-index: 1;position: relative;background-color: white;}#sk-container-id-2 div.sk-parallel-item:first-child::after {align-self: flex-end;width: 50%;}#sk-container-id-2 div.sk-parallel-item:last-child::after {align-self: flex-start;width: 50%;}#sk-container-id-2 div.sk-parallel-item:only-child::after {width: 0;}#sk-container-id-2 div.sk-dashed-wrapped {border: 1px dashed gray;margin: 0 0.4em 0.5em 0.4em;box-sizing: border-box;padding-bottom: 0.4em;background-color: white;}#sk-container-id-2 div.sk-label label {font-family: monospace;font-weight: bold;display: inline-block;line-height: 1.2em;}#sk-container-id-2 div.sk-label-container {text-align: center;}#sk-container-id-2 div.sk-container {/* jupyter's `normalize.less` sets `[hidden] { display: none; }` but bootstrap.min.css set `[hidden] { display: none !important; }` so we also need the `!important` here to be able to override the default hidden behavior on the sphinx rendered scikit-learn.org. See: https://github.com/scikit-learn/scikit-learn/issues/21755 */display: inline-block !important;position: relative;}#sk-container-id-2 div.sk-text-repr-fallback {display: none;}</style><div id=\"sk-container-id-2\" class=\"sk-top-container\"><div class=\"sk-text-repr-fallback\"><pre>KNeighborsClassifier(algorithm=&#x27;ball_tree&#x27;, n_neighbors=2)</pre><b>In a Jupyter environment, please rerun this cell to show the HTML representation or trust the notebook. <br />On GitHub, the HTML representation is unable to render, please try loading this page with nbviewer.org.</b></div><div class=\"sk-container\" hidden><div class=\"sk-item\"><div class=\"sk-estimator sk-toggleable\"><input class=\"sk-toggleable__control sk-hidden--visually\" id=\"sk-estimator-id-2\" type=\"checkbox\" checked><label for=\"sk-estimator-id-2\" class=\"sk-toggleable__label sk-toggleable__label-arrow\">KNeighborsClassifier</label><div class=\"sk-toggleable__content\"><pre>KNeighborsClassifier(algorithm=&#x27;ball_tree&#x27;, n_neighbors=2)</pre></div></div></div></div></div>"
      ],
      "text/plain": [
       "KNeighborsClassifier(algorithm='ball_tree', n_neighbors=2)"
      ]
     },
     "execution_count": 291,
     "metadata": {},
     "output_type": "execute_result"
    }
   ],
   "source": [
    "KNN_Classifier.fit(X_train,y_train)"
   ]
  },
  {
   "cell_type": "code",
   "execution_count": 292,
   "id": "79e7d8d4",
   "metadata": {},
   "outputs": [],
   "source": [
    "y_predNeighbors = KNN_Classifier.predict(X_valid)"
   ]
  },
  {
   "cell_type": "code",
   "execution_count": 293,
   "id": "8e527eb0",
   "metadata": {},
   "outputs": [
    {
     "data": {
      "text/plain": [
       "0.8985400005692006"
      ]
     },
     "execution_count": 293,
     "metadata": {},
     "output_type": "execute_result"
    }
   ],
   "source": [
    "KNN_Classifier.score(X_train,y_train)"
   ]
  },
  {
   "cell_type": "code",
   "execution_count": 294,
   "id": "d3eec7d4",
   "metadata": {},
   "outputs": [
    {
     "data": {
      "text/plain": [
       "0.8128029749651371"
      ]
     },
     "execution_count": 294,
     "metadata": {},
     "output_type": "execute_result"
    }
   ],
   "source": [
    "KNN_Classifier.score(X_valid,y_valid)"
   ]
  },
  {
   "cell_type": "code",
   "execution_count": 295,
   "id": "f58740f3",
   "metadata": {},
   "outputs": [
    {
     "data": {
      "text/plain": [
       "array([[9772,  306, 2382],\n",
       "       [ 100, 9365, 2271],\n",
       "       [ 231,  348, 5343]], dtype=int64)"
      ]
     },
     "execution_count": 295,
     "metadata": {},
     "output_type": "execute_result"
    }
   ],
   "source": [
    "cm3 = confusion_matrix(y_predNeighbors,y_valid)\n",
    "cm3"
   ]
  },
  {
   "cell_type": "code",
   "execution_count": 296,
   "id": "94140804",
   "metadata": {},
   "outputs": [
    {
     "name": "stdout",
     "output_type": "stream",
     "text": [
      "              precision    recall  f1-score   support\n",
      "\n",
      "           0       0.97      0.78      0.87     12460\n",
      "           1       0.93      0.80      0.86     11736\n",
      "           2       0.53      0.90      0.67      5922\n",
      "\n",
      "    accuracy                           0.81     30118\n",
      "   macro avg       0.81      0.83      0.80     30118\n",
      "weighted avg       0.87      0.81      0.83     30118\n",
      "\n"
     ]
    }
   ],
   "source": [
    "print(classification_report(y_predNeighbors,y_valid))"
   ]
  },
  {
   "cell_type": "code",
   "execution_count": 297,
   "id": "efbeb2e7",
   "metadata": {},
   "outputs": [
    {
     "data": {
      "image/png": "[encoded data removed]",
      "text/plain": [
       "<Figure size 640x480 with 1 Axes>"
      ]
     },
     "metadata": {},
     "output_type": "display_data"
    }
   ],
   "source": [
    "# TUNINNIG FOR NUM OF NEIGHBORS\n",
    "\n",
    "Train_accuracy=[]\n",
    "Validation_accuracy=[]\n",
    "\n",
    "for i in range(1,15):\n",
    "    KNN_Classifier=KNeighborsClassifier(n_neighbors=i)\n",
    "    KNN_Classifier.fit(X_train,y_train)\n",
    "    Train_accuracy.append(KNN_Classifier.score(X_train,y_train))\n",
    "    Validation_accuracy.append(KNN_Classifier.score(X_valid,y_valid))\n",
    "num_neighbors=np.array([i for i in range(1,15)])\n",
    "plt.plot(num_neighbors,Train_accuracy,label = 'Training Accuracy')\n",
    "plt.plot(num_neighbors,Validation_accuracy,label = 'Validation Accuracy')\n",
    "plt.legend()\n",
    "plt.show()"
   ]
  },
  {
   "cell_type": "code",
   "execution_count": 298,
   "id": "aad730d3",
   "metadata": {},
   "outputs": [
    {
     "data": {
      "text/html": [
       "<div>\n",
       "<style scoped>\n",
       "    .dataframe tbody tr th:only-of-type {\n",
       "        vertical-align: middle;\n",
       "    }\n",
       "\n",
       "    .dataframe tbody tr th {\n",
       "        vertical-align: top;\n",
       "    }\n",
       "\n",
       "    .dataframe thead th {\n",
       "        text-align: right;\n",
       "    }\n",
       "</style>\n",
       "<table border=\"1\" class=\"dataframe\">\n",
       "  <thead>\n",
       "    <tr style=\"text-align: right;\">\n",
       "      <th></th>\n",
       "      <th>Train_accuracy</th>\n",
       "      <th>Validation_accuracy</th>\n",
       "      <th>No_Neighbors</th>\n",
       "    </tr>\n",
       "  </thead>\n",
       "  <tbody>\n",
       "    <tr>\n",
       "      <th>0</th>\n",
       "      <td>1.000000</td>\n",
       "      <td>0.835182</td>\n",
       "      <td>1</td>\n",
       "    </tr>\n",
       "    <tr>\n",
       "      <th>1</th>\n",
       "      <td>0.898540</td>\n",
       "      <td>0.812803</td>\n",
       "      <td>2</td>\n",
       "    </tr>\n",
       "    <tr>\n",
       "      <th>2</th>\n",
       "      <td>0.899522</td>\n",
       "      <td>0.807491</td>\n",
       "      <td>3</td>\n",
       "    </tr>\n",
       "    <tr>\n",
       "      <th>3</th>\n",
       "      <td>0.857871</td>\n",
       "      <td>0.785112</td>\n",
       "      <td>4</td>\n",
       "    </tr>\n",
       "    <tr>\n",
       "      <th>4</th>\n",
       "      <td>0.855252</td>\n",
       "      <td>0.779932</td>\n",
       "      <td>5</td>\n",
       "    </tr>\n",
       "    <tr>\n",
       "      <th>5</th>\n",
       "      <td>0.826365</td>\n",
       "      <td>0.762600</td>\n",
       "      <td>6</td>\n",
       "    </tr>\n",
       "    <tr>\n",
       "      <th>6</th>\n",
       "      <td>0.823847</td>\n",
       "      <td>0.758849</td>\n",
       "      <td>7</td>\n",
       "    </tr>\n",
       "    <tr>\n",
       "      <th>7</th>\n",
       "      <td>0.797820</td>\n",
       "      <td>0.741650</td>\n",
       "      <td>8</td>\n",
       "    </tr>\n",
       "    <tr>\n",
       "      <th>8</th>\n",
       "      <td>0.796269</td>\n",
       "      <td>0.738827</td>\n",
       "      <td>9</td>\n",
       "    </tr>\n",
       "    <tr>\n",
       "      <th>9</th>\n",
       "      <td>0.778923</td>\n",
       "      <td>0.727804</td>\n",
       "      <td>10</td>\n",
       "    </tr>\n",
       "    <tr>\n",
       "      <th>10</th>\n",
       "      <td>0.775123</td>\n",
       "      <td>0.725978</td>\n",
       "      <td>11</td>\n",
       "    </tr>\n",
       "    <tr>\n",
       "      <th>11</th>\n",
       "      <td>0.761619</td>\n",
       "      <td>0.717677</td>\n",
       "      <td>12</td>\n",
       "    </tr>\n",
       "    <tr>\n",
       "      <th>12</th>\n",
       "      <td>0.757876</td>\n",
       "      <td>0.712996</td>\n",
       "      <td>13</td>\n",
       "    </tr>\n",
       "    <tr>\n",
       "      <th>13</th>\n",
       "      <td>0.746535</td>\n",
       "      <td>0.705027</td>\n",
       "      <td>14</td>\n",
       "    </tr>\n",
       "  </tbody>\n",
       "</table>\n",
       "</div>"
      ],
      "text/plain": [
       "    Train_accuracy  Validation_accuracy  No_Neighbors\n",
       "0         1.000000             0.835182             1\n",
       "1         0.898540             0.812803             2\n",
       "2         0.899522             0.807491             3\n",
       "3         0.857871             0.785112             4\n",
       "4         0.855252             0.779932             5\n",
       "5         0.826365             0.762600             6\n",
       "6         0.823847             0.758849             7\n",
       "7         0.797820             0.741650             8\n",
       "8         0.796269             0.738827             9\n",
       "9         0.778923             0.727804            10\n",
       "10        0.775123             0.725978            11\n",
       "11        0.761619             0.717677            12\n",
       "12        0.757876             0.712996            13\n",
       "13        0.746535             0.705027            14"
      ]
     },
     "execution_count": 298,
     "metadata": {},
     "output_type": "execute_result"
    }
   ],
   "source": [
    "Accuracies = pd.DataFrame({\"Train_accuracy\":Train_accuracy,\"Validation_accuracy\":Validation_accuracy,\"No_Neighbors\":num_neighbors})\n",
    "Accuracies"
   ]
  }
 ],
 "metadata": {
  "kernelspec": {
   "display_name": "Python 3 (ipykernel)",
   "language": "python",
   "name": "python3"
  },
  "language_info": {
   "codemirror_mode": {
    "name": "ipython",
    "version": 3
   },
   "file_extension": ".py",
   "mimetype": "text/x-python",
   "name": "python",
   "nbconvert_exporter": "python",
   "pygments_lexer": "ipython3",
   "version": "3.10.9"
  }
 },
 "nbformat": 4,
 "nbformat_minor": 5
}
